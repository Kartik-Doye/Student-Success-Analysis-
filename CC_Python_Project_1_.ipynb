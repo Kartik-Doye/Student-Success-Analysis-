{
  "nbformat": 4,
  "nbformat_minor": 0,
  "metadata": {
    "colab": {
      "provenance": []
    },
    "kernelspec": {
      "name": "python3",
      "display_name": "Python 3"
    },
    "language_info": {
      "name": "python"
    }
  },
  "cells": [
    {
      "cell_type": "markdown",
      "source": [
        "   ![CC.jpeg](data:image/jpeg;base64,/9j/4AAQSkZJRgABAQAAAQABAAD/2wCEAAkGBxIRERUUEhIWFhUXGBcWGBMXFRgYFRcXFxkXFxsXFhoZHyggGB0nHxMXIjIhJikrLi4uGR8zODMtNygtLisBCgoKDg0OGhAQGy8iICYtLS0tNS0vLS0vLi0tLSstLS0tLS0wLS0vLS0tLS0vLS0tLS0tLS0tLS0tLS8tLS0vLf/AABEIAOEA4QMBIgACEQEDEQH/xAAcAAEAAgIDAQAAAAAAAAAAAAAABgcEBQIDCAH/xABJEAABAwICBgUIBggFAwUAAAABAAIDBBESIQUGBzFBYRMiUXGBFCMyUpGSobEzQlNicoIVFkNjosHC0SREc7Lws9PjNDU2VJP/xAAbAQEAAwEBAQEAAAAAAAAAAAAAAQIDBAYFB//EADERAAIBAgQCBwgDAQAAAAAAAAABAgMRBBIhMUFRBRMiMnGhsQZSYZHB0eHwFBWB8f/aAAwDAQACEQMRAD8AvFERAEREAREQBERAEREAREQBERAEREAREQBERAEREAREQBERAEREAREQBERAEREAREQBERAERRXWHaDQUZLXS9JIP2UQxkHscfRaeRN+SlJvYhuxKkVI6Z2vVchtTxxwNOQJ85JytezQeWErVeQac0hmRVSNPru6KM8w1xYz2BadU+OhXPyL3q9LU8X0s8TPxyNb8ytY/XXRo/z1Oe6VrvkVVVHshrnZvdBH+dzneOFtvitnHsYl+tWsHdCT8S8Jkgt2Ly5Fgt130af87B4yAfNZtJrDRy/R1cD+TZmE/Aqs3bGJOFa3xgP/AHFg1ex2sA6k0D+TsbP6XJlhzF5ci7Ab7l9Xn1+qOmaLOJk7QM8VPNcH8rHYj4tWRo7abpKmdgntLbeyaPBIB3twkd5BTquTuM/MvpFAdAbVqKezZw6mefX60V/9QDIc3BqncMrXtDmuDmnMOBBBHaCN6zcWtyyaZzREUEhERAEREAREQBERAEREAREQBERAFodatbabR7LzOu8i7IW5yO524D7xsFG9oO0ZtIXQUtn1G5z97Ie/1n/d3Dj2GB6qal1WlZDPO9zYnG7qh+b5D2Rg791r+iOF7WWsYaXlsUcuCPmm9c9IaVk6GEOax17U8N8Th+8cM3Dt3N7Qt9q5sge4B1bLgH2MVi7uc8gtHcAe9WboDV+noo+jp4w0fWdve89r3HMn5cLLaI6nCOgUeZp9Car0dGPMU7Gn17YpD3vdd3xW4RFk3cuEREAREQBYek9FQVLcM8LJG9j2h1u6+48wsxEBWWsOyGF93Uchid9m8l8XgfTb/F3KCMm0poOW3WjBPonr00vdnYnus7uXohdNZSRzMMcrGvY4WLHAFp7wVoqj2epRw5EP1N2jU9aRHJ5mc5Bjj1Hn927t+6bHsvvU2VNa77LHRh01CC9m91Oc3tH7snN4+6c+y+5cdQtpj4S2nrnF0fotnOb4+FpeLm/e3jjcbpcE1eIUraMudFxjeHAFpBBAIINwQcwQeIXJZFwiIgCIiAIiIAiIgCIiAKttp+v3kwNLSu8+R5yQfsgfqj94R7oz3kLd7R9bho+ntGQaiW4jHqjjIR2C+Q4kjhdVzsy1NNfKampBdA1xPWuTPJe5xE+k0H0u05dq1hFWzSKSfBGVs32e+U4aqsaehviZEb3lzvjfxwcvrd3pXQxgaAAAABYACwAG4AcF9AsvqpKTkyyVgiIqkhEWv0lpulp/p6iKPk+RrT4Am5QGwRRh20HRgNvLGeAeR7Q2yzqDWuhnOGKrhc4/V6Rod7pzU5XyIujcoiKCQi4ueBa5AvkOZ7B7FyQBERAFXu0XZ62rDqilAbUb3M3Nmt28A/sdx3HgRYSKYyad0Q1co7Zzry6hf5LVkiDFhBdk6ndexBvmGX3j6u/tV4NcCLjMHiq22q6kCdrqunb55gvKxo+lYB6QHF7QPEZbwFgbH9cr4aGd3D/DvJ4AXMXgBdvK44BaySksyKp2dmWyiIsS4REQBERAEREAXRXVbIY3yyOwsY0vc7sDRcrvVWbbtP4WR0bDm+0sv4GnqNPe4E/kHarRjmdiG7IhcbZ9O6Tzu0POZ39DTsPsuL+Ln81f+j6KOCJkUTQ1jGhrWjgB8+9QzZFq75NR9M8edqLP5ti/Zt8QS783JTtWqSu7LYiK4hERZlgtNrPrNT6Pi6Sd2ZyZG3N7z2NH8zkO1fda9YI6CmdPJnbqsYN73nc0ey5PAAlecdN6XmrJnTTuxPd7rW8GMHBovu8d5JWtOnm1ZScrEk1m2kVtWS1jzTxcGROIeR9+TInwsO9Q0m5JOZO88T3niviLpSS2MW77hCERSQb3V/W6toiOhmdh+yeS+I8sJPV/LYq5dSdoMGkLRvHQ1H2ZN2vtvMbuP4Tn3gXXn1cmOIIIJBBBBBsQRmCCMweapKmpFoyaPUenMosf2b2P8GuGL+HEtgq92ea3fpKnkppyPKGsIJ3dLGRhxj7wuA7vB42G91hqayOOHogb284WNxnFZuW45b8182tLqXKTTei28fyd9GPXKME0nd7+H4JKixGVYZEx07mscWjFcgAOsLgX5rp/SmL6KKR/3rYGd+J9r+AKv1kV+6/IzVOT/dPmbFERXKBUVtS1ZNDVNqae7YpXYmluXRTA4rN7AbYh3OG4BXqtXrPoVlbSyQP+uOq71XjNrh3ED4jirwllZWSujC1F1jGkKRkuQkb1JWjhIAL25EEOHI8lIVQuzDTD6DSJp5uq2V3QSNO5srSQw+9dv5+SvpKkcrEXdBERULBERAEREB8JtvXnlgOmNMZ5sllPhBGPhdjLfidzVybRNJGn0bUPBs4s6Np44pCI7jmMRPgoDsK0ZeSoqCPRa2Fp5u67/g2P2rWGkXIpLVpFwNaALAWAyAX1EWRcLHrq2KBhkmkbGwb3vcGtHiVrdbdZItH05llzJ6scYPWkfwA7BxJ4BeetY9Yqivl6SoffM4IxlHGOxg/nvK0hTcikp2N1tO1pFfVDonEwRDDHkQHONi99jn2Acm81D0RdSVlYxbuERFJARF30VHJM8RxMdI925jRcn+w5nIIDoUi1U1NqtIG8TcEV+tO8EMFt4bxeeQy7SFN9WtmkUAEukXB794pWm7R+Mj0+70fxKY1NaXANaAyMCwY0WAA3DL5L43SPTVDCdldqXJfXkdlDBzq67Iw9XNAUmjrNpmdLOcnTvzcb7w3g0ch4kqWivZ0vRYuuG4yOwZbzuG9aCqqW0UWNwBmeCGMPDmf5+xarQErmwVlQ43dhwhx3lxBPzLVx4PE4ipVjGq+1Ph7q9bvyOyph4QoSqruxXzf2RybrXTseXMpbuufOOeC8+JBI7rrY0uvMDjZ8b2c8nD4Z/BV+EXsFgKCVkrHjv7TEt3cr+JcdFXRzNxRva4cju5Ebx4rIVN0VZJC8PjcWuHEceRHEclZerenW1TODZG+kz+pvL5LhxGEdLtLVH08Jj41nllpL1NyiIuM+gUdtn0N0NY2oZk2dtyRkRLHYE34XaWHvBVtapaX8so4Z8rvYMVuD29V495pWh2vaM6bRr3AdaFzZR3A4X/wvcfBaXYZpHFBPAT9G9sjR92QWIHjGT+ZbPtQvyKLSRZ6IixLhERAEREBWm3Osw0sEQPpylxHa2Np/m9q2ux6j6PRjHWsZXySHn1ujHwjCie3iS81I3sZMfedGP6FYeoMWHRlGO2CN3vtD/wCpavSmii7xv0RYGn6sw0s8o3xxSPHe1hI+SyLlB7SdYDW10hBvFETFEOFmmznfmcCb9gb2KKo0ZIu5Kysc17hERSQEWfobQ89XJ0VPGZHcbbmj1nuOTR3q2NXNQaWhtJVEVFRkRHbzUZ3iwPpHm7wAWGIxNLDwz1HZGlOnKo7RRCNUdn1TWgSSeYp9/SvHWcP3bTv/ABGw7L7laeiqOmoI+jo4wCfSmdnI/mSd/duHALtq6x8h6xy4NG4f3WOvF9I+0NSteFDsx58fx6+B9fD4CMNZ6s5PcSbk3J4lZkGCGMzy+iPQbxc7hb/nNcKCmDrvebRszcTy4KNaf0uamS4yjbkxvYO08z8Ny48Dh8q/kVdfdT4v3n8F5s7owdaXVx2W7+i+LMXSVc+eQyPOZ3Dg0cGjktvUHo9FAcZpfgD/AOMKPFb/AFx83HSw+pHcjmcI/k72r0nQUHUxeZ621/fkcntHUVLBZI6X0+n1IwiIvdH5wFmaI0g6nmbI3gcx2tO8ez42WGiiSUlZkxk4tNbl0xvDgCDcEAg8iuS0+qMxfRxE8AW+64tHwAW4XnJxyyceR6+nPPBS5q5iaWoxPBLEd0kb2e80j+apLYpWFmkMJNhJC8YfvNLHjxAa/wBpV8Lz/ql5nT7WjICpqI/DzrB/JXp92SEt0egERFkXCIiAIiICltun/q4P9E/7yrR1O/8Ab6O27yaD/pMVabd47TUjvWZKPddGf61YuoUmLRlHygib7rA3+lay7iKLvM3y12sVKZaSojG98MrR3uY4D5rYosi55JabgFfVI9oGgTRV0rLWjeTJEeBY43sPwm7fAdqxdWtWKmvfhp47gGzpXZRs/E7t5C55LuzK1zmtwNMrA1U2ZyzATVpNPDkQ3dM8dx+jHfnyG9TTV3VSj0bZwAqKkftXDqsP3G7m/F3NbGoqHSG7jf5DuC8/0j0/Sw94Uu1LyXj9vQ78PgZT1lojnSuipo+hpIxFGOIHWce0neTzNyuhfEXicTi6uJnnqu/ovA+xTpRpq0UFkUVKZXYRu4nsC6ooi5wa0XJXDWPSYgZ5PEeufpXjhf6o5n4DvW+Bwiqt1KncW/xfJfXkhLNKShDd+S5mFrPpcP8AMQ/RM3kfXcPmB8Tn2KPIi+nUm5u7/wCLkj6lGlGlHLEydGwdJNGz1ntB7ri/wusvXSox1j+xgaz2C5+LisjUyDFVNPBjXO+GH+paOvn6SWR/rPc7wJJC9V7NUtJz/wA/fM8d7W1tYU/9/fIx0RF6o8WERZOjaJ08rI273G1+wcXeAuobSV2Sk27IsnU+LDRxX4gu8HOLh8CFuVwhiDGhrRYNAAHICwXNecnLNJy5nr6UMkFHkkgqBoP/AJFl/wDdk/3vV/Lz/qr53T7XdtVUP8B0rh8gr09n4CfA9AIiLIuEREAREQFZ7dKPFTU8tvQlLCewSNJ+cbVt9kFZ0mjI23zjfJGfeLx/DI1Z+0jR3lGjahoF3Nb0re28RD7DmQ0jxUH2FaSAdUU5PpBszR3dR/zjWu9PwKbSLeREWRc0+serVNXtY2pYXBjsTSHFp5tuM8J4jkOwLAqXmJohjjEMbRZrGgAW5W4dyk66p4GvFnAELi6Qw9XEUclOeX6/B8TWjOMJZpK5D0W9m0E0+i8jkRddP6Cd649hXkJ9C4yLtkv4Nfc+osXSfE1C+gLbfoJ3rj2FZNDoroyXEhxHo5WAPaVNLoXFymlKNlxd1p5kSxdNK6dzU6RrBRRZWM8gyHqDtP8AzM9yhDnEkkm5JuSd5J4lTGs1Snle5752lzvun2DPcF0fqPJ9s33T/dfZng61lCELRW2q+b13fE6cNiMNSjdzvJ76P5bbIiiKV/qPJ9s33T/dP1Hk+2b7p/us/wCDiPd9PudP9hhve9fsY2rR6Onq5uIZhaeZBPzLVFQrGbq08UbqcSNxPeHF+E2sCMrflC1H6hyfbs9w/wB16/odww+HUZuzPD9Oxq4rFOVNXj+8yIIpf+ocn27PcP8AdZNJqG0HzkxI7GNDfiSfkvqPGUVx9T4y6PxDfd80QungdI4MY0ucdzQM/wDnNWTqtq+KVuJ1jK4dYjc0eq3+Z4rY6N0VDTi0TA3tO9x7ycys1fPxOLdRZY6I+thMAqLzy1foERFxH0TG0lViGGSU7o2Pee5rSf5Kj9i1KX6RxG56OF7i77zi1mfM43ewqxtrekug0bI0HrTFsI7nG7/4Gu9q0OwvR1oaioI9N7Y290YxEjxkt+Vax0g2UeskWiiIsi4REQBERAfHNBBBFwciOS880TzofTFnZMilLDzgkyDj22Y9ru9vJeh1U+2/QFxHWMG60UvcT5tx8SW/mataT1s+JSa0uWuChNlCdk+sXldEI3nztPaN195Zbzb/AGDD3tKmsjA4EHcQR7Vm1Z2LJ3RGdHV9bWs6eB8EEDrmISRPlkkZewkfhkYGB1rhoubEXN8hmUuknCtq2SPAiihppBewa0vNRjcXb7WjbvOVlrtX6uWhp2Us9NO4wNEbJYmdIyVjMmOGE3Y7CBcOAsb5kZrp03oeeeTSGCP6WnpAzEQGyOjfO98RPC4c1p4ddX0IN/ozWGmqXFkUt3WxYS17C5mQxsxgY25jrNuMxmu9mlYXRxyiQFkpYI3Z2eX+jbvWixSVdXSPbTywtg6V8jpWhmckToxC3Pr5uDiR1fNjMrXaLp5/J6GjNPK19PLEZJC0CEMgucbX3s/FYWAz62YFioyoXZstb9a4oIKlsc1qiOJ5BDC5rJMN2Nc7CWNcbizXG5uMlttNaWFLTmYtLz1GtYLAvkkIYxgO4Xc4C/C6iVdTzx0VfR+TTSSyuq3RyMaDHI2dz3tJeTZpaHhuE59TIHJSXWfRklRShsVuljfDNGHGzXPhe2QMceAOC1+F0stBqc9HRV+Nrp5afCb4oY4X3GRsGymTOxtmWC+eQX2LWakdL0TZgXlxYMnYHPF7xtktgc8YT1Qb5HJcaPTRlIjdTVMT3Ag44+ow2OZkBLSMrCxO8KMRUk7qCn0f5NI2WN9O10xA6ECCVj3Ttkv1i4RkgDrXdmBmlr7i/Im36RitKcYtCSJfuEMbIQfyvafFYlZrHSxWD5cyxsgY1r3vcx2KzmsYC4jqncMrZqP17JoTpGMU8shqiXwujaCw46aKDC917RkOiJJdYWItdbLRWjpI63E5vVFFTxCT6peySYuaPAtPiFFkLmfUaw0rIo5TKCyXOMsa6Rzxa92NYC51hvsMuK+1enqeKNkj5MpM2AMe57xa5wxtBebA55ZcVF6fRxjpYMbKuOdj6rBJTsD3sbJM52FzXBzS1wwHrC3V3hfKmkqy+lqKgVAJpzFL5Nh6SOQua+7mC9w4AA4L2LRwU5ULs31VpjHPQ9BIHQzuluRYh7WwveM94s5o9llks1ipjN0HSESFxYA5j2tc5t7tY9zQx7uqcgSclpKHROB9CYY5ujbNVSPMo67TKyUlzxwxPfkPvLWup6yV0PSirdK2rjfI0tiFK2NsuRjNrubhsRYl2/F2JZC7JXXazUkL3MkmDSwXecLi1mVwJHgYWEgggOIJuLLs0np+mp8PSyWLhiADXvODi9wYCWsF83GwHaojpl8lNRaThkp5XGTyuVszWgxuZK1zg5z79UsBwkHOzBa+SyKygkZVOld5V0csEDQ+ms4h0eO7JG2LrecuCMs3XtxnKiLsm0UrXtDmkFrgCHA3BBzBB4hc1gaBo2Q00McbXtYxjWtbJ6bWgZB1uI3LjrDpdlHTSTybmNuB6zjk1o5lxA8VS2tkXKh216a6WrZTtN2wNu4DjLJY2tyaG++Vaupuh/I6KCAjrNZd/wDqO6z/AOJxVObONFv0jpPppusI3GolPAyFxLG+9nbsYQr9WlTRKJSOuoREWRcIiIAiIgCxtJULKiF8MouyRpa4cj2dh5rJRAeeKCom0FpMh4JDDheB+1gdmHN52AcOxzbX3r0DR1TJY2yRuDmPAc1w3EHMEKI7TdUPL4McQ/xEQJZ+8bvMZ+Y7D3lQXZXrp5K/ySpNoXOOBzsuhkJza6+5pN7+q7vNtpLPG63M12XYu5ERYmgREQBERAEREAREQBERAEREBpdIausnLulmndE43dT4wIjuOE2bjLcs24rHday3QCIlwFR21nWg1dQKWAl0cTrHDn0k/o2Ft+G5aO0l3JS/anrt5Kw01O7/ABDx1nA/QsPHk8jd2DPsvotj+p2Itrp29UfQMPE7jKeQ3N8TwaVtBZVmZSTvoidbP9Who+kaxw86/wA5Kd/XIHVB7GgAe08VJURZN3dy6VgiIoAREQBERAEREAVX7UtQjNiq6Vl5N80IH0g9dg4v7R9bv9K0EVoycXdENXKe2bbRejDaWtf1MmxTuPo8AyQ+r2O4ccsxcAN1W20PZuKjFUUYDZsy+HINlPEt4NefYeNjcmI6m6/VGjneT1LHvhacJjdlNDybi3j7h8CNx0cVPWJVNrRl8IsDQumYKuIS08gew9m9p7HNObTyKz1iXCIiAIiIAiIgCIiAIi655msaXPcGtaLlziA0DtJOQQHYoLtC1/ZQtMMBD6kjdvbDcek/tdncN8Tlvjuu+1W4dDQHLMOqSLf/AJA/7z4DcVrdQ9nMlU4VFaHNhJxBjielmJzu4nNrT2nM8t61jC2sijlfRGPs/wBTJNJTGpqsRgxFznOviqH3zAPq33u8BxtekbA0ANAAAAAAsABkABwC4wQtja1jGhrWgBrWgBoAyAAG4LsVZyzMslYIiKhIREQBERAEREAREQBERAFGtbtSqbSLbyDBKBZs7AMYtuDuD28j4EKSopTa2DVzz3pTV7SWhpemY5waP8xFcxkdkrTuHJwIvuJUt1c2vtIDa6Kx+2iBLe90e8flJ7grWIvvUL1h2Z0NUS5jTBIfrRWDSfvRnq+yx5rTPGXeRTK1sSXROm6aqbip5mSDiGu6w/E3e3xC2CojSmyzSFO7HAWzYc2ujd0co52cRbwcViM1s0zQHDK+ZoGWGojLgfzvFz4OTq0+6xm5o9BIqVotslUB5ynhk5sc+P541s49s4+tRG/KYH5sUdVInOi10VUu2zs4UTvGYD+hYNTtmnP0dJG3m6Rz/gA35p1UuQzouRdFZVxwtL5XtY0b3PcGtHiVQ8+0TS1UcMT7H1KeG7vC+Nw8CvtNqFpaueHzNcP3lTIcQB32b1njusFPVW7zIz8id6w7WaSG7aZpqH+tmyIH8RF3eAse1V3PXaT05LgAdIAfo2DBTx83XNr/AIiXdisHQOySlis6pe6d3qjzcXsBxO8TY9isCkpY4mBkTGsYNzGtDWjuAU5ox7os3uQbUzZlBSFstQRPMMwLeajO+7QfSP3j4AKfoiycm9yyVgiIoJCIiAIiIAiIgCIiAIiIAiIgCIiAIiIAvjmg5FfUQGprNWaKbOSkgce0xMv7bXWtl2e6LdvpGD8Lnt/2uClCKcz5kWRFY9nWi27qRvjJKfm5Z9Nqho+M3bRQA9piaT7SCVu0TM+YsjhFC1gs1oaOwAAewLmiKCQiIgCIiAIiIAiIgCIiAIiIAiIgCIiAIiIAiIgCIiAIiIAiIgCIiAIiIAiIgCIiAIiIAiIgCIiAIiID/9k=)"
      ],
      "metadata": {
        "id": "bd6lfDkjaklt"
      }
    },
    {
      "cell_type": "markdown",
      "source": [
        "# **RELEVANCE:**\n",
        "\n",
        "### (DESCRIPTION OF WHY THE PROBLEM MATTERS)\n",
        "\n",
        "It's important to pay attention to details and spend some qualitative time preparing a quality resume to get through this initial screening as the job market is really competitive\n"
      ],
      "metadata": {
        "id": "KnPsvLcmZ4cd"
      }
    },
    {
      "cell_type": "markdown",
      "source": [
        "#**OBJECTIVE:**\n",
        "\n",
        " We aim to conduct a comprehensive analysis of our student interns to gain insights about relationship between their academic performance, event participation, career aspiration and factors influencing their success. We have collected a dataset containing various attributes for each student.\n"
      ],
      "metadata": {
        "id": "OymhJEHpaPh5"
      }
    },
    {
      "cell_type": "code",
      "execution_count": 127,
      "metadata": {
        "colab": {
          "base_uri": "https://localhost:8080/"
        },
        "id": "E9rCCmQiYJZK",
        "outputId": "67fb9573-0489-4d77-e3d0-2477bfb60ed4"
      },
      "outputs": [
        {
          "output_type": "stream",
          "name": "stderr",
          "text": [
            "<ipython-input-127-0986ac21df90>:5: UserWarning: Warning Message\n",
            "  warnings.warn('Warning Message')\n"
          ]
        }
      ],
      "source": [
        "import pandas as pd\n",
        "import numpy as np\n",
        "import matplotlib.pyplot as plt\n",
        "import warnings\n",
        "warnings.warn('Warning Message')"
      ]
    },
    {
      "cell_type": "code",
      "source": [
        "df = pd.read_excel(\"/content/Data analyst Data.xlsx\")"
      ],
      "metadata": {
        "id": "tdTkcxsXYcOM"
      },
      "execution_count": 128,
      "outputs": []
    },
    {
      "cell_type": "code",
      "source": [
        "df"
      ],
      "metadata": {
        "colab": {
          "base_uri": "https://localhost:8080/",
          "height": 1000
        },
        "id": "gD0mSivTYcNN",
        "outputId": "33c1025a-3880-4198-d3a3-e8e25e2ca35b"
      },
      "execution_count": 129,
      "outputs": [
        {
          "output_type": "execute_result",
          "data": {
            "text/plain": [
              "        First Name              Email ID  Quantity  \\\n",
              "0           ANIKET        aniket@xyz.com         1   \n",
              "1        Dhanshree     dhanshree@xyz.com         1   \n",
              "2           Dhiraj        dhiraj@xyz.com         1   \n",
              "3            Pooja         pooja@xyz.com         1   \n",
              "4           Aayush        aayush@xyz.com         1   \n",
              "...            ...                   ...       ...   \n",
              "4889   Patel Niraj    patelniraj@xyz.com         1   \n",
              "4890         VIDIT         vidit@xyz.com         1   \n",
              "4891  Suryaprakash  suryaprakash@xyz.com         1   \n",
              "4892      Saif ali       saifali@xyz.com         1   \n",
              "4893       Lankesh       lankesh@xyz.com         1   \n",
              "\n",
              "                                 Events Attendee Status  \\\n",
              "0                Art of Resume Building       Attending   \n",
              "1                Art of Resume Building       Attending   \n",
              "2                Art of Resume Building       Attending   \n",
              "3                Art of Resume Building       Attending   \n",
              "4                Art of Resume Building       Attending   \n",
              "...                                 ...             ...   \n",
              "4889   The SDLC & their transformations       Attending   \n",
              "4890  Data Visualization using Power BI       Attending   \n",
              "4891  Data Visualization using Power BI       Attending   \n",
              "4892  Data Visualization using Power BI       Attending   \n",
              "4893  Data Visualization using Power BI       Attending   \n",
              "\n",
              "                                           College Name  \\\n",
              "0     D Y PATIL INSTITUTE OF MCA AND MANAGEMENT AKUR...   \n",
              "1                      AP SHAH INSTITUTE OF TECHNOLOGY    \n",
              "2          Don Bosco College of Engineering Fatorda Goa   \n",
              "3              Pillai College of Engineering New Panvel   \n",
              "4                                  St Xavier's College    \n",
              "...                                                 ...   \n",
              "4889  thakur institute of management studies, career...   \n",
              "4890                 government polytechnic gandhinagar   \n",
              "4891          vishwakarma institute of technology, pune   \n",
              "4892                 mit academy of engineering ,alandi   \n",
              "4893                 a. c. patil college of engineering   \n",
              "\n",
              "           How did you come to know about this event?  \\\n",
              "0                                               Email   \n",
              "1                                              Others   \n",
              "2                                               Email   \n",
              "3                                               Email   \n",
              "4     Instagram | LinkedIn | Cloud Counselage Website   \n",
              "...                                               ...   \n",
              "4889                      LinkedIn | Whatsapp | Email   \n",
              "4890                                              NaN   \n",
              "4891                                              NaN   \n",
              "4892                                              NaN   \n",
              "4893                                              NaN   \n",
              "\n",
              "     Specify in \"Others\" (how did you come to know about this event)  \\\n",
              "0                                                   NaN                \n",
              "1                                               College                \n",
              "2                                                   NaN                \n",
              "3                                                   NaN                \n",
              "4                                                   NaN                \n",
              "...                                                 ...                \n",
              "4889                                                NaN                \n",
              "4890                                                NaN                \n",
              "4891                                                NaN                \n",
              "4892                                                NaN                \n",
              "4893                                                NaN                \n",
              "\n",
              "     Designation  Year of Graduation       City  CGPA  \\\n",
              "0       Students                2024      Patna   6.7   \n",
              "1       Students                2024   Amravati   8.2   \n",
              "2       Students                2023    Kunrool   6.5   \n",
              "3       Students                2025   Tirupati   8.7   \n",
              "4       Students                2024  Vijaywada   9.1   \n",
              "...          ...                 ...        ...   ...   \n",
              "4889    Students                2024    Jodhpur   6.9   \n",
              "4890    Students                2023    Jalgaon   6.5   \n",
              "4891    Students                2024      Thane   6.9   \n",
              "4892    Students                2024    Patiala   9.0   \n",
              "4893    Students                2025    Sangrur   7.2   \n",
              "\n",
              "      Experience with python (Months) Family Income  Expected salary (Lac)  \\\n",
              "0                                   7       7 Lakh+                      6   \n",
              "1                                   3      0-2 Lakh                      7   \n",
              "2                                   4      5-7 Lakh                      7   \n",
              "3                                   7      2-5 Lakh                      8   \n",
              "4                                   3      0-2 Lakh                     10   \n",
              "...                               ...           ...                    ...   \n",
              "4889                                6      0-2 Lakh                     15   \n",
              "4890                                6      0-2 Lakh                      8   \n",
              "4891                                5      0-2 Lakh                      7   \n",
              "4892                                3      0-2 Lakh                     23   \n",
              "4893                                8      0-2 Lakh                      9   \n",
              "\n",
              "     Leadership- skills  \n",
              "0                   yes  \n",
              "1                    no  \n",
              "2                    no  \n",
              "3                    no  \n",
              "4                   yes  \n",
              "...                 ...  \n",
              "4889                yes  \n",
              "4890                 no  \n",
              "4891                 no  \n",
              "4892                yes  \n",
              "4893                yes  \n",
              "\n",
              "[4894 rows x 16 columns]"
            ],
            "text/html": [
              "\n",
              "  <div id=\"df-ac9c4198-8b15-4c08-9762-a7afb6db47d8\" class=\"colab-df-container\">\n",
              "    <div>\n",
              "<style scoped>\n",
              "    .dataframe tbody tr th:only-of-type {\n",
              "        vertical-align: middle;\n",
              "    }\n",
              "\n",
              "    .dataframe tbody tr th {\n",
              "        vertical-align: top;\n",
              "    }\n",
              "\n",
              "    .dataframe thead th {\n",
              "        text-align: right;\n",
              "    }\n",
              "</style>\n",
              "<table border=\"1\" class=\"dataframe\">\n",
              "  <thead>\n",
              "    <tr style=\"text-align: right;\">\n",
              "      <th></th>\n",
              "      <th>First Name</th>\n",
              "      <th>Email ID</th>\n",
              "      <th>Quantity</th>\n",
              "      <th>Events</th>\n",
              "      <th>Attendee Status</th>\n",
              "      <th>College Name</th>\n",
              "      <th>How did you come to know about this event?</th>\n",
              "      <th>Specify in \"Others\" (how did you come to know about this event)</th>\n",
              "      <th>Designation</th>\n",
              "      <th>Year of Graduation</th>\n",
              "      <th>City</th>\n",
              "      <th>CGPA</th>\n",
              "      <th>Experience with python (Months)</th>\n",
              "      <th>Family Income</th>\n",
              "      <th>Expected salary (Lac)</th>\n",
              "      <th>Leadership- skills</th>\n",
              "    </tr>\n",
              "  </thead>\n",
              "  <tbody>\n",
              "    <tr>\n",
              "      <th>0</th>\n",
              "      <td>ANIKET</td>\n",
              "      <td>aniket@xyz.com</td>\n",
              "      <td>1</td>\n",
              "      <td>Art of Resume Building</td>\n",
              "      <td>Attending</td>\n",
              "      <td>D Y PATIL INSTITUTE OF MCA AND MANAGEMENT AKUR...</td>\n",
              "      <td>Email</td>\n",
              "      <td>NaN</td>\n",
              "      <td>Students</td>\n",
              "      <td>2024</td>\n",
              "      <td>Patna</td>\n",
              "      <td>6.7</td>\n",
              "      <td>7</td>\n",
              "      <td>7 Lakh+</td>\n",
              "      <td>6</td>\n",
              "      <td>yes</td>\n",
              "    </tr>\n",
              "    <tr>\n",
              "      <th>1</th>\n",
              "      <td>Dhanshree</td>\n",
              "      <td>dhanshree@xyz.com</td>\n",
              "      <td>1</td>\n",
              "      <td>Art of Resume Building</td>\n",
              "      <td>Attending</td>\n",
              "      <td>AP SHAH INSTITUTE OF TECHNOLOGY</td>\n",
              "      <td>Others</td>\n",
              "      <td>College</td>\n",
              "      <td>Students</td>\n",
              "      <td>2024</td>\n",
              "      <td>Amravati</td>\n",
              "      <td>8.2</td>\n",
              "      <td>3</td>\n",
              "      <td>0-2 Lakh</td>\n",
              "      <td>7</td>\n",
              "      <td>no</td>\n",
              "    </tr>\n",
              "    <tr>\n",
              "      <th>2</th>\n",
              "      <td>Dhiraj</td>\n",
              "      <td>dhiraj@xyz.com</td>\n",
              "      <td>1</td>\n",
              "      <td>Art of Resume Building</td>\n",
              "      <td>Attending</td>\n",
              "      <td>Don Bosco College of Engineering Fatorda Goa</td>\n",
              "      <td>Email</td>\n",
              "      <td>NaN</td>\n",
              "      <td>Students</td>\n",
              "      <td>2023</td>\n",
              "      <td>Kunrool</td>\n",
              "      <td>6.5</td>\n",
              "      <td>4</td>\n",
              "      <td>5-7 Lakh</td>\n",
              "      <td>7</td>\n",
              "      <td>no</td>\n",
              "    </tr>\n",
              "    <tr>\n",
              "      <th>3</th>\n",
              "      <td>Pooja</td>\n",
              "      <td>pooja@xyz.com</td>\n",
              "      <td>1</td>\n",
              "      <td>Art of Resume Building</td>\n",
              "      <td>Attending</td>\n",
              "      <td>Pillai College of Engineering New Panvel</td>\n",
              "      <td>Email</td>\n",
              "      <td>NaN</td>\n",
              "      <td>Students</td>\n",
              "      <td>2025</td>\n",
              "      <td>Tirupati</td>\n",
              "      <td>8.7</td>\n",
              "      <td>7</td>\n",
              "      <td>2-5 Lakh</td>\n",
              "      <td>8</td>\n",
              "      <td>no</td>\n",
              "    </tr>\n",
              "    <tr>\n",
              "      <th>4</th>\n",
              "      <td>Aayush</td>\n",
              "      <td>aayush@xyz.com</td>\n",
              "      <td>1</td>\n",
              "      <td>Art of Resume Building</td>\n",
              "      <td>Attending</td>\n",
              "      <td>St Xavier's College</td>\n",
              "      <td>Instagram | LinkedIn | Cloud Counselage Website</td>\n",
              "      <td>NaN</td>\n",
              "      <td>Students</td>\n",
              "      <td>2024</td>\n",
              "      <td>Vijaywada</td>\n",
              "      <td>9.1</td>\n",
              "      <td>3</td>\n",
              "      <td>0-2 Lakh</td>\n",
              "      <td>10</td>\n",
              "      <td>yes</td>\n",
              "    </tr>\n",
              "    <tr>\n",
              "      <th>...</th>\n",
              "      <td>...</td>\n",
              "      <td>...</td>\n",
              "      <td>...</td>\n",
              "      <td>...</td>\n",
              "      <td>...</td>\n",
              "      <td>...</td>\n",
              "      <td>...</td>\n",
              "      <td>...</td>\n",
              "      <td>...</td>\n",
              "      <td>...</td>\n",
              "      <td>...</td>\n",
              "      <td>...</td>\n",
              "      <td>...</td>\n",
              "      <td>...</td>\n",
              "      <td>...</td>\n",
              "      <td>...</td>\n",
              "    </tr>\n",
              "    <tr>\n",
              "      <th>4889</th>\n",
              "      <td>Patel Niraj</td>\n",
              "      <td>patelniraj@xyz.com</td>\n",
              "      <td>1</td>\n",
              "      <td>The SDLC &amp; their transformations</td>\n",
              "      <td>Attending</td>\n",
              "      <td>thakur institute of management studies, career...</td>\n",
              "      <td>LinkedIn | Whatsapp | Email</td>\n",
              "      <td>NaN</td>\n",
              "      <td>Students</td>\n",
              "      <td>2024</td>\n",
              "      <td>Jodhpur</td>\n",
              "      <td>6.9</td>\n",
              "      <td>6</td>\n",
              "      <td>0-2 Lakh</td>\n",
              "      <td>15</td>\n",
              "      <td>yes</td>\n",
              "    </tr>\n",
              "    <tr>\n",
              "      <th>4890</th>\n",
              "      <td>VIDIT</td>\n",
              "      <td>vidit@xyz.com</td>\n",
              "      <td>1</td>\n",
              "      <td>Data Visualization using Power BI</td>\n",
              "      <td>Attending</td>\n",
              "      <td>government polytechnic gandhinagar</td>\n",
              "      <td>NaN</td>\n",
              "      <td>NaN</td>\n",
              "      <td>Students</td>\n",
              "      <td>2023</td>\n",
              "      <td>Jalgaon</td>\n",
              "      <td>6.5</td>\n",
              "      <td>6</td>\n",
              "      <td>0-2 Lakh</td>\n",
              "      <td>8</td>\n",
              "      <td>no</td>\n",
              "    </tr>\n",
              "    <tr>\n",
              "      <th>4891</th>\n",
              "      <td>Suryaprakash</td>\n",
              "      <td>suryaprakash@xyz.com</td>\n",
              "      <td>1</td>\n",
              "      <td>Data Visualization using Power BI</td>\n",
              "      <td>Attending</td>\n",
              "      <td>vishwakarma institute of technology, pune</td>\n",
              "      <td>NaN</td>\n",
              "      <td>NaN</td>\n",
              "      <td>Students</td>\n",
              "      <td>2024</td>\n",
              "      <td>Thane</td>\n",
              "      <td>6.9</td>\n",
              "      <td>5</td>\n",
              "      <td>0-2 Lakh</td>\n",
              "      <td>7</td>\n",
              "      <td>no</td>\n",
              "    </tr>\n",
              "    <tr>\n",
              "      <th>4892</th>\n",
              "      <td>Saif ali</td>\n",
              "      <td>saifali@xyz.com</td>\n",
              "      <td>1</td>\n",
              "      <td>Data Visualization using Power BI</td>\n",
              "      <td>Attending</td>\n",
              "      <td>mit academy of engineering ,alandi</td>\n",
              "      <td>NaN</td>\n",
              "      <td>NaN</td>\n",
              "      <td>Students</td>\n",
              "      <td>2024</td>\n",
              "      <td>Patiala</td>\n",
              "      <td>9.0</td>\n",
              "      <td>3</td>\n",
              "      <td>0-2 Lakh</td>\n",
              "      <td>23</td>\n",
              "      <td>yes</td>\n",
              "    </tr>\n",
              "    <tr>\n",
              "      <th>4893</th>\n",
              "      <td>Lankesh</td>\n",
              "      <td>lankesh@xyz.com</td>\n",
              "      <td>1</td>\n",
              "      <td>Data Visualization using Power BI</td>\n",
              "      <td>Attending</td>\n",
              "      <td>a. c. patil college of engineering</td>\n",
              "      <td>NaN</td>\n",
              "      <td>NaN</td>\n",
              "      <td>Students</td>\n",
              "      <td>2025</td>\n",
              "      <td>Sangrur</td>\n",
              "      <td>7.2</td>\n",
              "      <td>8</td>\n",
              "      <td>0-2 Lakh</td>\n",
              "      <td>9</td>\n",
              "      <td>yes</td>\n",
              "    </tr>\n",
              "  </tbody>\n",
              "</table>\n",
              "<p>4894 rows × 16 columns</p>\n",
              "</div>\n",
              "    <div class=\"colab-df-buttons\">\n",
              "\n",
              "  <div class=\"colab-df-container\">\n",
              "    <button class=\"colab-df-convert\" onclick=\"convertToInteractive('df-ac9c4198-8b15-4c08-9762-a7afb6db47d8')\"\n",
              "            title=\"Convert this dataframe to an interactive table.\"\n",
              "            style=\"display:none;\">\n",
              "\n",
              "  <svg xmlns=\"http://www.w3.org/2000/svg\" height=\"24px\" viewBox=\"0 -960 960 960\">\n",
              "    <path d=\"M120-120v-720h720v720H120Zm60-500h600v-160H180v160Zm220 220h160v-160H400v160Zm0 220h160v-160H400v160ZM180-400h160v-160H180v160Zm440 0h160v-160H620v160ZM180-180h160v-160H180v160Zm440 0h160v-160H620v160Z\"/>\n",
              "  </svg>\n",
              "    </button>\n",
              "\n",
              "  <style>\n",
              "    .colab-df-container {\n",
              "      display:flex;\n",
              "      gap: 12px;\n",
              "    }\n",
              "\n",
              "    .colab-df-convert {\n",
              "      background-color: #E8F0FE;\n",
              "      border: none;\n",
              "      border-radius: 50%;\n",
              "      cursor: pointer;\n",
              "      display: none;\n",
              "      fill: #1967D2;\n",
              "      height: 32px;\n",
              "      padding: 0 0 0 0;\n",
              "      width: 32px;\n",
              "    }\n",
              "\n",
              "    .colab-df-convert:hover {\n",
              "      background-color: #E2EBFA;\n",
              "      box-shadow: 0px 1px 2px rgba(60, 64, 67, 0.3), 0px 1px 3px 1px rgba(60, 64, 67, 0.15);\n",
              "      fill: #174EA6;\n",
              "    }\n",
              "\n",
              "    .colab-df-buttons div {\n",
              "      margin-bottom: 4px;\n",
              "    }\n",
              "\n",
              "    [theme=dark] .colab-df-convert {\n",
              "      background-color: #3B4455;\n",
              "      fill: #D2E3FC;\n",
              "    }\n",
              "\n",
              "    [theme=dark] .colab-df-convert:hover {\n",
              "      background-color: #434B5C;\n",
              "      box-shadow: 0px 1px 3px 1px rgba(0, 0, 0, 0.15);\n",
              "      filter: drop-shadow(0px 1px 2px rgba(0, 0, 0, 0.3));\n",
              "      fill: #FFFFFF;\n",
              "    }\n",
              "  </style>\n",
              "\n",
              "    <script>\n",
              "      const buttonEl =\n",
              "        document.querySelector('#df-ac9c4198-8b15-4c08-9762-a7afb6db47d8 button.colab-df-convert');\n",
              "      buttonEl.style.display =\n",
              "        google.colab.kernel.accessAllowed ? 'block' : 'none';\n",
              "\n",
              "      async function convertToInteractive(key) {\n",
              "        const element = document.querySelector('#df-ac9c4198-8b15-4c08-9762-a7afb6db47d8');\n",
              "        const dataTable =\n",
              "          await google.colab.kernel.invokeFunction('convertToInteractive',\n",
              "                                                    [key], {});\n",
              "        if (!dataTable) return;\n",
              "\n",
              "        const docLinkHtml = 'Like what you see? Visit the ' +\n",
              "          '<a target=\"_blank\" href=https://colab.research.google.com/notebooks/data_table.ipynb>data table notebook</a>'\n",
              "          + ' to learn more about interactive tables.';\n",
              "        element.innerHTML = '';\n",
              "        dataTable['output_type'] = 'display_data';\n",
              "        await google.colab.output.renderOutput(dataTable, element);\n",
              "        const docLink = document.createElement('div');\n",
              "        docLink.innerHTML = docLinkHtml;\n",
              "        element.appendChild(docLink);\n",
              "      }\n",
              "    </script>\n",
              "  </div>\n",
              "\n",
              "\n",
              "<div id=\"df-c7e39441-7fd5-449c-857b-dc208e235b29\">\n",
              "  <button class=\"colab-df-quickchart\" onclick=\"quickchart('df-c7e39441-7fd5-449c-857b-dc208e235b29')\"\n",
              "            title=\"Suggest charts\"\n",
              "            style=\"display:none;\">\n",
              "\n",
              "<svg xmlns=\"http://www.w3.org/2000/svg\" height=\"24px\"viewBox=\"0 0 24 24\"\n",
              "     width=\"24px\">\n",
              "    <g>\n",
              "        <path d=\"M19 3H5c-1.1 0-2 .9-2 2v14c0 1.1.9 2 2 2h14c1.1 0 2-.9 2-2V5c0-1.1-.9-2-2-2zM9 17H7v-7h2v7zm4 0h-2V7h2v10zm4 0h-2v-4h2v4z\"/>\n",
              "    </g>\n",
              "</svg>\n",
              "  </button>\n",
              "\n",
              "<style>\n",
              "  .colab-df-quickchart {\n",
              "      --bg-color: #E8F0FE;\n",
              "      --fill-color: #1967D2;\n",
              "      --hover-bg-color: #E2EBFA;\n",
              "      --hover-fill-color: #174EA6;\n",
              "      --disabled-fill-color: #AAA;\n",
              "      --disabled-bg-color: #DDD;\n",
              "  }\n",
              "\n",
              "  [theme=dark] .colab-df-quickchart {\n",
              "      --bg-color: #3B4455;\n",
              "      --fill-color: #D2E3FC;\n",
              "      --hover-bg-color: #434B5C;\n",
              "      --hover-fill-color: #FFFFFF;\n",
              "      --disabled-bg-color: #3B4455;\n",
              "      --disabled-fill-color: #666;\n",
              "  }\n",
              "\n",
              "  .colab-df-quickchart {\n",
              "    background-color: var(--bg-color);\n",
              "    border: none;\n",
              "    border-radius: 50%;\n",
              "    cursor: pointer;\n",
              "    display: none;\n",
              "    fill: var(--fill-color);\n",
              "    height: 32px;\n",
              "    padding: 0;\n",
              "    width: 32px;\n",
              "  }\n",
              "\n",
              "  .colab-df-quickchart:hover {\n",
              "    background-color: var(--hover-bg-color);\n",
              "    box-shadow: 0 1px 2px rgba(60, 64, 67, 0.3), 0 1px 3px 1px rgba(60, 64, 67, 0.15);\n",
              "    fill: var(--button-hover-fill-color);\n",
              "  }\n",
              "\n",
              "  .colab-df-quickchart-complete:disabled,\n",
              "  .colab-df-quickchart-complete:disabled:hover {\n",
              "    background-color: var(--disabled-bg-color);\n",
              "    fill: var(--disabled-fill-color);\n",
              "    box-shadow: none;\n",
              "  }\n",
              "\n",
              "  .colab-df-spinner {\n",
              "    border: 2px solid var(--fill-color);\n",
              "    border-color: transparent;\n",
              "    border-bottom-color: var(--fill-color);\n",
              "    animation:\n",
              "      spin 1s steps(1) infinite;\n",
              "  }\n",
              "\n",
              "  @keyframes spin {\n",
              "    0% {\n",
              "      border-color: transparent;\n",
              "      border-bottom-color: var(--fill-color);\n",
              "      border-left-color: var(--fill-color);\n",
              "    }\n",
              "    20% {\n",
              "      border-color: transparent;\n",
              "      border-left-color: var(--fill-color);\n",
              "      border-top-color: var(--fill-color);\n",
              "    }\n",
              "    30% {\n",
              "      border-color: transparent;\n",
              "      border-left-color: var(--fill-color);\n",
              "      border-top-color: var(--fill-color);\n",
              "      border-right-color: var(--fill-color);\n",
              "    }\n",
              "    40% {\n",
              "      border-color: transparent;\n",
              "      border-right-color: var(--fill-color);\n",
              "      border-top-color: var(--fill-color);\n",
              "    }\n",
              "    60% {\n",
              "      border-color: transparent;\n",
              "      border-right-color: var(--fill-color);\n",
              "    }\n",
              "    80% {\n",
              "      border-color: transparent;\n",
              "      border-right-color: var(--fill-color);\n",
              "      border-bottom-color: var(--fill-color);\n",
              "    }\n",
              "    90% {\n",
              "      border-color: transparent;\n",
              "      border-bottom-color: var(--fill-color);\n",
              "    }\n",
              "  }\n",
              "</style>\n",
              "\n",
              "  <script>\n",
              "    async function quickchart(key) {\n",
              "      const quickchartButtonEl =\n",
              "        document.querySelector('#' + key + ' button');\n",
              "      quickchartButtonEl.disabled = true;  // To prevent multiple clicks.\n",
              "      quickchartButtonEl.classList.add('colab-df-spinner');\n",
              "      try {\n",
              "        const charts = await google.colab.kernel.invokeFunction(\n",
              "            'suggestCharts', [key], {});\n",
              "      } catch (error) {\n",
              "        console.error('Error during call to suggestCharts:', error);\n",
              "      }\n",
              "      quickchartButtonEl.classList.remove('colab-df-spinner');\n",
              "      quickchartButtonEl.classList.add('colab-df-quickchart-complete');\n",
              "    }\n",
              "    (() => {\n",
              "      let quickchartButtonEl =\n",
              "        document.querySelector('#df-c7e39441-7fd5-449c-857b-dc208e235b29 button');\n",
              "      quickchartButtonEl.style.display =\n",
              "        google.colab.kernel.accessAllowed ? 'block' : 'none';\n",
              "    })();\n",
              "  </script>\n",
              "</div>\n",
              "\n",
              "  <div id=\"id_16bb2b27-42e3-48f9-98a0-d5b8c27d4a5a\">\n",
              "    <style>\n",
              "      .colab-df-generate {\n",
              "        background-color: #E8F0FE;\n",
              "        border: none;\n",
              "        border-radius: 50%;\n",
              "        cursor: pointer;\n",
              "        display: none;\n",
              "        fill: #1967D2;\n",
              "        height: 32px;\n",
              "        padding: 0 0 0 0;\n",
              "        width: 32px;\n",
              "      }\n",
              "\n",
              "      .colab-df-generate:hover {\n",
              "        background-color: #E2EBFA;\n",
              "        box-shadow: 0px 1px 2px rgba(60, 64, 67, 0.3), 0px 1px 3px 1px rgba(60, 64, 67, 0.15);\n",
              "        fill: #174EA6;\n",
              "      }\n",
              "\n",
              "      [theme=dark] .colab-df-generate {\n",
              "        background-color: #3B4455;\n",
              "        fill: #D2E3FC;\n",
              "      }\n",
              "\n",
              "      [theme=dark] .colab-df-generate:hover {\n",
              "        background-color: #434B5C;\n",
              "        box-shadow: 0px 1px 3px 1px rgba(0, 0, 0, 0.15);\n",
              "        filter: drop-shadow(0px 1px 2px rgba(0, 0, 0, 0.3));\n",
              "        fill: #FFFFFF;\n",
              "      }\n",
              "    </style>\n",
              "    <button class=\"colab-df-generate\" onclick=\"generateWithVariable('df')\"\n",
              "            title=\"Generate code using this dataframe.\"\n",
              "            style=\"display:none;\">\n",
              "\n",
              "  <svg xmlns=\"http://www.w3.org/2000/svg\" height=\"24px\"viewBox=\"0 0 24 24\"\n",
              "       width=\"24px\">\n",
              "    <path d=\"M7,19H8.4L18.45,9,17,7.55,7,17.6ZM5,21V16.75L18.45,3.32a2,2,0,0,1,2.83,0l1.4,1.43a1.91,1.91,0,0,1,.58,1.4,1.91,1.91,0,0,1-.58,1.4L9.25,21ZM18.45,9,17,7.55Zm-12,3A5.31,5.31,0,0,0,4.9,8.1,5.31,5.31,0,0,0,1,6.5,5.31,5.31,0,0,0,4.9,4.9,5.31,5.31,0,0,0,6.5,1,5.31,5.31,0,0,0,8.1,4.9,5.31,5.31,0,0,0,12,6.5,5.46,5.46,0,0,0,6.5,12Z\"/>\n",
              "  </svg>\n",
              "    </button>\n",
              "    <script>\n",
              "      (() => {\n",
              "      const buttonEl =\n",
              "        document.querySelector('#id_16bb2b27-42e3-48f9-98a0-d5b8c27d4a5a button.colab-df-generate');\n",
              "      buttonEl.style.display =\n",
              "        google.colab.kernel.accessAllowed ? 'block' : 'none';\n",
              "\n",
              "      buttonEl.onclick = () => {\n",
              "        google.colab.notebook.generateWithVariable('df');\n",
              "      }\n",
              "      })();\n",
              "    </script>\n",
              "  </div>\n",
              "\n",
              "    </div>\n",
              "  </div>\n"
            ],
            "application/vnd.google.colaboratory.intrinsic+json": {
              "type": "dataframe",
              "variable_name": "df",
              "summary": "{\n  \"name\": \"df\",\n  \"rows\": 4894,\n  \"fields\": [\n    {\n      \"column\": \"First Name\",\n      \"properties\": {\n        \"dtype\": \"category\",\n        \"num_unique_values\": 2324,\n        \"samples\": [\n          \"Ruqaiya\",\n          \"Terri\",\n          \"Suzanne\"\n        ],\n        \"semantic_type\": \"\",\n        \"description\": \"\"\n      }\n    },\n    {\n      \"column\": \"Email ID\",\n      \"properties\": {\n        \"dtype\": \"category\",\n        \"num_unique_values\": 2157,\n        \"samples\": [\n          \"mildred@xyz.com\",\n          \"ar.priyanka@xyz.com\",\n          \"boya@xyz.com\"\n        ],\n        \"semantic_type\": \"\",\n        \"description\": \"\"\n      }\n    },\n    {\n      \"column\": \"Quantity\",\n      \"properties\": {\n        \"dtype\": \"number\",\n        \"std\": 0,\n        \"min\": 1,\n        \"max\": 1,\n        \"num_unique_values\": 1,\n        \"samples\": [\n          1\n        ],\n        \"semantic_type\": \"\",\n        \"description\": \"\"\n      }\n    },\n    {\n      \"column\": \"Events\",\n      \"properties\": {\n        \"dtype\": \"category\",\n        \"num_unique_values\": 16,\n        \"samples\": [\n          \"Art of Resume Building\"\n        ],\n        \"semantic_type\": \"\",\n        \"description\": \"\"\n      }\n    },\n    {\n      \"column\": \"Attendee Status\",\n      \"properties\": {\n        \"dtype\": \"category\",\n        \"num_unique_values\": 2,\n        \"samples\": [\n          \"NAN\"\n        ],\n        \"semantic_type\": \"\",\n        \"description\": \"\"\n      }\n    },\n    {\n      \"column\": \"College Name\",\n      \"properties\": {\n        \"dtype\": \"category\",\n        \"num_unique_values\": 55,\n        \"samples\": [\n          \"s.i.e.s. graduate school of technology, nerul, navi mumbai\"\n        ],\n        \"semantic_type\": \"\",\n        \"description\": \"\"\n      }\n    },\n    {\n      \"column\": \"How did you come to know about this event?\",\n      \"properties\": {\n        \"dtype\": \"category\",\n        \"num_unique_values\": 99,\n        \"samples\": [\n          \"Youtube | Instagram | Whatsapp | Telegram | Twitter\"\n        ],\n        \"semantic_type\": \"\",\n        \"description\": \"\"\n      }\n    },\n    {\n      \"column\": \"Specify in \\\"Others\\\" (how did you come to know about this event)\",\n      \"properties\": {\n        \"dtype\": \"category\",\n        \"num_unique_values\": 11,\n        \"samples\": [\n          \"Team entity\"\n        ],\n        \"semantic_type\": \"\",\n        \"description\": \"\"\n      }\n    },\n    {\n      \"column\": \"Designation\",\n      \"properties\": {\n        \"dtype\": \"category\",\n        \"num_unique_values\": 49,\n        \"samples\": [\n          \"Intern\"\n        ],\n        \"semantic_type\": \"\",\n        \"description\": \"\"\n      }\n    },\n    {\n      \"column\": \"Year of Graduation\",\n      \"properties\": {\n        \"dtype\": \"number\",\n        \"std\": 1,\n        \"min\": 2023,\n        \"max\": 2026,\n        \"num_unique_values\": 4,\n        \"samples\": [\n          2023\n        ],\n        \"semantic_type\": \"\",\n        \"description\": \"\"\n      }\n    },\n    {\n      \"column\": \"City\",\n      \"properties\": {\n        \"dtype\": \"category\",\n        \"num_unique_values\": 177,\n        \"samples\": [\n          \"Muzaffarpur\"\n        ],\n        \"semantic_type\": \"\",\n        \"description\": \"\"\n      }\n    },\n    {\n      \"column\": \"CGPA\",\n      \"properties\": {\n        \"dtype\": \"number\",\n        \"std\": 1.0051842959142352,\n        \"min\": 6.2,\n        \"max\": 9.9,\n        \"num_unique_values\": 37,\n        \"samples\": [\n          6.2\n        ],\n        \"semantic_type\": \"\",\n        \"description\": \"\"\n      }\n    },\n    {\n      \"column\": \"Experience with python (Months)\",\n      \"properties\": {\n        \"dtype\": \"number\",\n        \"std\": 1,\n        \"min\": 3,\n        \"max\": 8,\n        \"num_unique_values\": 6,\n        \"samples\": [\n          7\n        ],\n        \"semantic_type\": \"\",\n        \"description\": \"\"\n      }\n    },\n    {\n      \"column\": \"Family Income\",\n      \"properties\": {\n        \"dtype\": \"category\",\n        \"num_unique_values\": 4,\n        \"samples\": [\n          \"0-2 Lakh\"\n        ],\n        \"semantic_type\": \"\",\n        \"description\": \"\"\n      }\n    },\n    {\n      \"column\": \"Expected salary (Lac)\",\n      \"properties\": {\n        \"dtype\": \"number\",\n        \"std\": 6,\n        \"min\": 5,\n        \"max\": 35,\n        \"num_unique_values\": 30,\n        \"samples\": [\n          34\n        ],\n        \"semantic_type\": \"\",\n        \"description\": \"\"\n      }\n    },\n    {\n      \"column\": \"Leadership- skills\",\n      \"properties\": {\n        \"dtype\": \"category\",\n        \"num_unique_values\": 3,\n        \"samples\": [\n          \"yes\"\n        ],\n        \"semantic_type\": \"\",\n        \"description\": \"\"\n      }\n    }\n  ]\n}"
            }
          },
          "metadata": {},
          "execution_count": 129
        }
      ]
    },
    {
      "cell_type": "code",
      "source": [
        "df.head(5)"
      ],
      "metadata": {
        "colab": {
          "base_uri": "https://localhost:8080/",
          "height": 625
        },
        "id": "U8ABRym-YcMP",
        "outputId": "d16d2fee-0e5a-4e3f-838b-bcf142ac67fe"
      },
      "execution_count": 130,
      "outputs": [
        {
          "output_type": "execute_result",
          "data": {
            "text/plain": [
              "  First Name           Email ID  Quantity                  Events  \\\n",
              "0     ANIKET     aniket@xyz.com         1  Art of Resume Building   \n",
              "1  Dhanshree  dhanshree@xyz.com         1  Art of Resume Building   \n",
              "2     Dhiraj     dhiraj@xyz.com         1  Art of Resume Building   \n",
              "3      Pooja      pooja@xyz.com         1  Art of Resume Building   \n",
              "4     Aayush     aayush@xyz.com         1  Art of Resume Building   \n",
              "\n",
              "  Attendee Status                                       College Name  \\\n",
              "0       Attending  D Y PATIL INSTITUTE OF MCA AND MANAGEMENT AKUR...   \n",
              "1       Attending                   AP SHAH INSTITUTE OF TECHNOLOGY    \n",
              "2       Attending       Don Bosco College of Engineering Fatorda Goa   \n",
              "3       Attending           Pillai College of Engineering New Panvel   \n",
              "4       Attending                               St Xavier's College    \n",
              "\n",
              "        How did you come to know about this event?  \\\n",
              "0                                            Email   \n",
              "1                                           Others   \n",
              "2                                            Email   \n",
              "3                                            Email   \n",
              "4  Instagram | LinkedIn | Cloud Counselage Website   \n",
              "\n",
              "  Specify in \"Others\" (how did you come to know about this event) Designation  \\\n",
              "0                                                NaN                 Students   \n",
              "1                                            College                 Students   \n",
              "2                                                NaN                 Students   \n",
              "3                                                NaN                 Students   \n",
              "4                                                NaN                 Students   \n",
              "\n",
              "   Year of Graduation       City  CGPA  Experience with python (Months)  \\\n",
              "0                2024      Patna   6.7                                7   \n",
              "1                2024   Amravati   8.2                                3   \n",
              "2                2023    Kunrool   6.5                                4   \n",
              "3                2025   Tirupati   8.7                                7   \n",
              "4                2024  Vijaywada   9.1                                3   \n",
              "\n",
              "  Family Income  Expected salary (Lac) Leadership- skills  \n",
              "0       7 Lakh+                      6                yes  \n",
              "1      0-2 Lakh                      7                 no  \n",
              "2      5-7 Lakh                      7                 no  \n",
              "3      2-5 Lakh                      8                 no  \n",
              "4      0-2 Lakh                     10                yes  "
            ],
            "text/html": [
              "\n",
              "  <div id=\"df-3d91ed16-4317-438e-bfa4-b872725d5259\" class=\"colab-df-container\">\n",
              "    <div>\n",
              "<style scoped>\n",
              "    .dataframe tbody tr th:only-of-type {\n",
              "        vertical-align: middle;\n",
              "    }\n",
              "\n",
              "    .dataframe tbody tr th {\n",
              "        vertical-align: top;\n",
              "    }\n",
              "\n",
              "    .dataframe thead th {\n",
              "        text-align: right;\n",
              "    }\n",
              "</style>\n",
              "<table border=\"1\" class=\"dataframe\">\n",
              "  <thead>\n",
              "    <tr style=\"text-align: right;\">\n",
              "      <th></th>\n",
              "      <th>First Name</th>\n",
              "      <th>Email ID</th>\n",
              "      <th>Quantity</th>\n",
              "      <th>Events</th>\n",
              "      <th>Attendee Status</th>\n",
              "      <th>College Name</th>\n",
              "      <th>How did you come to know about this event?</th>\n",
              "      <th>Specify in \"Others\" (how did you come to know about this event)</th>\n",
              "      <th>Designation</th>\n",
              "      <th>Year of Graduation</th>\n",
              "      <th>City</th>\n",
              "      <th>CGPA</th>\n",
              "      <th>Experience with python (Months)</th>\n",
              "      <th>Family Income</th>\n",
              "      <th>Expected salary (Lac)</th>\n",
              "      <th>Leadership- skills</th>\n",
              "    </tr>\n",
              "  </thead>\n",
              "  <tbody>\n",
              "    <tr>\n",
              "      <th>0</th>\n",
              "      <td>ANIKET</td>\n",
              "      <td>aniket@xyz.com</td>\n",
              "      <td>1</td>\n",
              "      <td>Art of Resume Building</td>\n",
              "      <td>Attending</td>\n",
              "      <td>D Y PATIL INSTITUTE OF MCA AND MANAGEMENT AKUR...</td>\n",
              "      <td>Email</td>\n",
              "      <td>NaN</td>\n",
              "      <td>Students</td>\n",
              "      <td>2024</td>\n",
              "      <td>Patna</td>\n",
              "      <td>6.7</td>\n",
              "      <td>7</td>\n",
              "      <td>7 Lakh+</td>\n",
              "      <td>6</td>\n",
              "      <td>yes</td>\n",
              "    </tr>\n",
              "    <tr>\n",
              "      <th>1</th>\n",
              "      <td>Dhanshree</td>\n",
              "      <td>dhanshree@xyz.com</td>\n",
              "      <td>1</td>\n",
              "      <td>Art of Resume Building</td>\n",
              "      <td>Attending</td>\n",
              "      <td>AP SHAH INSTITUTE OF TECHNOLOGY</td>\n",
              "      <td>Others</td>\n",
              "      <td>College</td>\n",
              "      <td>Students</td>\n",
              "      <td>2024</td>\n",
              "      <td>Amravati</td>\n",
              "      <td>8.2</td>\n",
              "      <td>3</td>\n",
              "      <td>0-2 Lakh</td>\n",
              "      <td>7</td>\n",
              "      <td>no</td>\n",
              "    </tr>\n",
              "    <tr>\n",
              "      <th>2</th>\n",
              "      <td>Dhiraj</td>\n",
              "      <td>dhiraj@xyz.com</td>\n",
              "      <td>1</td>\n",
              "      <td>Art of Resume Building</td>\n",
              "      <td>Attending</td>\n",
              "      <td>Don Bosco College of Engineering Fatorda Goa</td>\n",
              "      <td>Email</td>\n",
              "      <td>NaN</td>\n",
              "      <td>Students</td>\n",
              "      <td>2023</td>\n",
              "      <td>Kunrool</td>\n",
              "      <td>6.5</td>\n",
              "      <td>4</td>\n",
              "      <td>5-7 Lakh</td>\n",
              "      <td>7</td>\n",
              "      <td>no</td>\n",
              "    </tr>\n",
              "    <tr>\n",
              "      <th>3</th>\n",
              "      <td>Pooja</td>\n",
              "      <td>pooja@xyz.com</td>\n",
              "      <td>1</td>\n",
              "      <td>Art of Resume Building</td>\n",
              "      <td>Attending</td>\n",
              "      <td>Pillai College of Engineering New Panvel</td>\n",
              "      <td>Email</td>\n",
              "      <td>NaN</td>\n",
              "      <td>Students</td>\n",
              "      <td>2025</td>\n",
              "      <td>Tirupati</td>\n",
              "      <td>8.7</td>\n",
              "      <td>7</td>\n",
              "      <td>2-5 Lakh</td>\n",
              "      <td>8</td>\n",
              "      <td>no</td>\n",
              "    </tr>\n",
              "    <tr>\n",
              "      <th>4</th>\n",
              "      <td>Aayush</td>\n",
              "      <td>aayush@xyz.com</td>\n",
              "      <td>1</td>\n",
              "      <td>Art of Resume Building</td>\n",
              "      <td>Attending</td>\n",
              "      <td>St Xavier's College</td>\n",
              "      <td>Instagram | LinkedIn | Cloud Counselage Website</td>\n",
              "      <td>NaN</td>\n",
              "      <td>Students</td>\n",
              "      <td>2024</td>\n",
              "      <td>Vijaywada</td>\n",
              "      <td>9.1</td>\n",
              "      <td>3</td>\n",
              "      <td>0-2 Lakh</td>\n",
              "      <td>10</td>\n",
              "      <td>yes</td>\n",
              "    </tr>\n",
              "  </tbody>\n",
              "</table>\n",
              "</div>\n",
              "    <div class=\"colab-df-buttons\">\n",
              "\n",
              "  <div class=\"colab-df-container\">\n",
              "    <button class=\"colab-df-convert\" onclick=\"convertToInteractive('df-3d91ed16-4317-438e-bfa4-b872725d5259')\"\n",
              "            title=\"Convert this dataframe to an interactive table.\"\n",
              "            style=\"display:none;\">\n",
              "\n",
              "  <svg xmlns=\"http://www.w3.org/2000/svg\" height=\"24px\" viewBox=\"0 -960 960 960\">\n",
              "    <path d=\"M120-120v-720h720v720H120Zm60-500h600v-160H180v160Zm220 220h160v-160H400v160Zm0 220h160v-160H400v160ZM180-400h160v-160H180v160Zm440 0h160v-160H620v160ZM180-180h160v-160H180v160Zm440 0h160v-160H620v160Z\"/>\n",
              "  </svg>\n",
              "    </button>\n",
              "\n",
              "  <style>\n",
              "    .colab-df-container {\n",
              "      display:flex;\n",
              "      gap: 12px;\n",
              "    }\n",
              "\n",
              "    .colab-df-convert {\n",
              "      background-color: #E8F0FE;\n",
              "      border: none;\n",
              "      border-radius: 50%;\n",
              "      cursor: pointer;\n",
              "      display: none;\n",
              "      fill: #1967D2;\n",
              "      height: 32px;\n",
              "      padding: 0 0 0 0;\n",
              "      width: 32px;\n",
              "    }\n",
              "\n",
              "    .colab-df-convert:hover {\n",
              "      background-color: #E2EBFA;\n",
              "      box-shadow: 0px 1px 2px rgba(60, 64, 67, 0.3), 0px 1px 3px 1px rgba(60, 64, 67, 0.15);\n",
              "      fill: #174EA6;\n",
              "    }\n",
              "\n",
              "    .colab-df-buttons div {\n",
              "      margin-bottom: 4px;\n",
              "    }\n",
              "\n",
              "    [theme=dark] .colab-df-convert {\n",
              "      background-color: #3B4455;\n",
              "      fill: #D2E3FC;\n",
              "    }\n",
              "\n",
              "    [theme=dark] .colab-df-convert:hover {\n",
              "      background-color: #434B5C;\n",
              "      box-shadow: 0px 1px 3px 1px rgba(0, 0, 0, 0.15);\n",
              "      filter: drop-shadow(0px 1px 2px rgba(0, 0, 0, 0.3));\n",
              "      fill: #FFFFFF;\n",
              "    }\n",
              "  </style>\n",
              "\n",
              "    <script>\n",
              "      const buttonEl =\n",
              "        document.querySelector('#df-3d91ed16-4317-438e-bfa4-b872725d5259 button.colab-df-convert');\n",
              "      buttonEl.style.display =\n",
              "        google.colab.kernel.accessAllowed ? 'block' : 'none';\n",
              "\n",
              "      async function convertToInteractive(key) {\n",
              "        const element = document.querySelector('#df-3d91ed16-4317-438e-bfa4-b872725d5259');\n",
              "        const dataTable =\n",
              "          await google.colab.kernel.invokeFunction('convertToInteractive',\n",
              "                                                    [key], {});\n",
              "        if (!dataTable) return;\n",
              "\n",
              "        const docLinkHtml = 'Like what you see? Visit the ' +\n",
              "          '<a target=\"_blank\" href=https://colab.research.google.com/notebooks/data_table.ipynb>data table notebook</a>'\n",
              "          + ' to learn more about interactive tables.';\n",
              "        element.innerHTML = '';\n",
              "        dataTable['output_type'] = 'display_data';\n",
              "        await google.colab.output.renderOutput(dataTable, element);\n",
              "        const docLink = document.createElement('div');\n",
              "        docLink.innerHTML = docLinkHtml;\n",
              "        element.appendChild(docLink);\n",
              "      }\n",
              "    </script>\n",
              "  </div>\n",
              "\n",
              "\n",
              "<div id=\"df-00ac4827-cd42-45e9-9692-fac19ace3b54\">\n",
              "  <button class=\"colab-df-quickchart\" onclick=\"quickchart('df-00ac4827-cd42-45e9-9692-fac19ace3b54')\"\n",
              "            title=\"Suggest charts\"\n",
              "            style=\"display:none;\">\n",
              "\n",
              "<svg xmlns=\"http://www.w3.org/2000/svg\" height=\"24px\"viewBox=\"0 0 24 24\"\n",
              "     width=\"24px\">\n",
              "    <g>\n",
              "        <path d=\"M19 3H5c-1.1 0-2 .9-2 2v14c0 1.1.9 2 2 2h14c1.1 0 2-.9 2-2V5c0-1.1-.9-2-2-2zM9 17H7v-7h2v7zm4 0h-2V7h2v10zm4 0h-2v-4h2v4z\"/>\n",
              "    </g>\n",
              "</svg>\n",
              "  </button>\n",
              "\n",
              "<style>\n",
              "  .colab-df-quickchart {\n",
              "      --bg-color: #E8F0FE;\n",
              "      --fill-color: #1967D2;\n",
              "      --hover-bg-color: #E2EBFA;\n",
              "      --hover-fill-color: #174EA6;\n",
              "      --disabled-fill-color: #AAA;\n",
              "      --disabled-bg-color: #DDD;\n",
              "  }\n",
              "\n",
              "  [theme=dark] .colab-df-quickchart {\n",
              "      --bg-color: #3B4455;\n",
              "      --fill-color: #D2E3FC;\n",
              "      --hover-bg-color: #434B5C;\n",
              "      --hover-fill-color: #FFFFFF;\n",
              "      --disabled-bg-color: #3B4455;\n",
              "      --disabled-fill-color: #666;\n",
              "  }\n",
              "\n",
              "  .colab-df-quickchart {\n",
              "    background-color: var(--bg-color);\n",
              "    border: none;\n",
              "    border-radius: 50%;\n",
              "    cursor: pointer;\n",
              "    display: none;\n",
              "    fill: var(--fill-color);\n",
              "    height: 32px;\n",
              "    padding: 0;\n",
              "    width: 32px;\n",
              "  }\n",
              "\n",
              "  .colab-df-quickchart:hover {\n",
              "    background-color: var(--hover-bg-color);\n",
              "    box-shadow: 0 1px 2px rgba(60, 64, 67, 0.3), 0 1px 3px 1px rgba(60, 64, 67, 0.15);\n",
              "    fill: var(--button-hover-fill-color);\n",
              "  }\n",
              "\n",
              "  .colab-df-quickchart-complete:disabled,\n",
              "  .colab-df-quickchart-complete:disabled:hover {\n",
              "    background-color: var(--disabled-bg-color);\n",
              "    fill: var(--disabled-fill-color);\n",
              "    box-shadow: none;\n",
              "  }\n",
              "\n",
              "  .colab-df-spinner {\n",
              "    border: 2px solid var(--fill-color);\n",
              "    border-color: transparent;\n",
              "    border-bottom-color: var(--fill-color);\n",
              "    animation:\n",
              "      spin 1s steps(1) infinite;\n",
              "  }\n",
              "\n",
              "  @keyframes spin {\n",
              "    0% {\n",
              "      border-color: transparent;\n",
              "      border-bottom-color: var(--fill-color);\n",
              "      border-left-color: var(--fill-color);\n",
              "    }\n",
              "    20% {\n",
              "      border-color: transparent;\n",
              "      border-left-color: var(--fill-color);\n",
              "      border-top-color: var(--fill-color);\n",
              "    }\n",
              "    30% {\n",
              "      border-color: transparent;\n",
              "      border-left-color: var(--fill-color);\n",
              "      border-top-color: var(--fill-color);\n",
              "      border-right-color: var(--fill-color);\n",
              "    }\n",
              "    40% {\n",
              "      border-color: transparent;\n",
              "      border-right-color: var(--fill-color);\n",
              "      border-top-color: var(--fill-color);\n",
              "    }\n",
              "    60% {\n",
              "      border-color: transparent;\n",
              "      border-right-color: var(--fill-color);\n",
              "    }\n",
              "    80% {\n",
              "      border-color: transparent;\n",
              "      border-right-color: var(--fill-color);\n",
              "      border-bottom-color: var(--fill-color);\n",
              "    }\n",
              "    90% {\n",
              "      border-color: transparent;\n",
              "      border-bottom-color: var(--fill-color);\n",
              "    }\n",
              "  }\n",
              "</style>\n",
              "\n",
              "  <script>\n",
              "    async function quickchart(key) {\n",
              "      const quickchartButtonEl =\n",
              "        document.querySelector('#' + key + ' button');\n",
              "      quickchartButtonEl.disabled = true;  // To prevent multiple clicks.\n",
              "      quickchartButtonEl.classList.add('colab-df-spinner');\n",
              "      try {\n",
              "        const charts = await google.colab.kernel.invokeFunction(\n",
              "            'suggestCharts', [key], {});\n",
              "      } catch (error) {\n",
              "        console.error('Error during call to suggestCharts:', error);\n",
              "      }\n",
              "      quickchartButtonEl.classList.remove('colab-df-spinner');\n",
              "      quickchartButtonEl.classList.add('colab-df-quickchart-complete');\n",
              "    }\n",
              "    (() => {\n",
              "      let quickchartButtonEl =\n",
              "        document.querySelector('#df-00ac4827-cd42-45e9-9692-fac19ace3b54 button');\n",
              "      quickchartButtonEl.style.display =\n",
              "        google.colab.kernel.accessAllowed ? 'block' : 'none';\n",
              "    })();\n",
              "  </script>\n",
              "</div>\n",
              "\n",
              "    </div>\n",
              "  </div>\n"
            ],
            "application/vnd.google.colaboratory.intrinsic+json": {
              "type": "dataframe",
              "variable_name": "df",
              "summary": "{\n  \"name\": \"df\",\n  \"rows\": 4894,\n  \"fields\": [\n    {\n      \"column\": \"First Name\",\n      \"properties\": {\n        \"dtype\": \"category\",\n        \"num_unique_values\": 2324,\n        \"samples\": [\n          \"Ruqaiya\",\n          \"Terri\",\n          \"Suzanne\"\n        ],\n        \"semantic_type\": \"\",\n        \"description\": \"\"\n      }\n    },\n    {\n      \"column\": \"Email ID\",\n      \"properties\": {\n        \"dtype\": \"category\",\n        \"num_unique_values\": 2157,\n        \"samples\": [\n          \"mildred@xyz.com\",\n          \"ar.priyanka@xyz.com\",\n          \"boya@xyz.com\"\n        ],\n        \"semantic_type\": \"\",\n        \"description\": \"\"\n      }\n    },\n    {\n      \"column\": \"Quantity\",\n      \"properties\": {\n        \"dtype\": \"number\",\n        \"std\": 0,\n        \"min\": 1,\n        \"max\": 1,\n        \"num_unique_values\": 1,\n        \"samples\": [\n          1\n        ],\n        \"semantic_type\": \"\",\n        \"description\": \"\"\n      }\n    },\n    {\n      \"column\": \"Events\",\n      \"properties\": {\n        \"dtype\": \"category\",\n        \"num_unique_values\": 16,\n        \"samples\": [\n          \"Art of Resume Building\"\n        ],\n        \"semantic_type\": \"\",\n        \"description\": \"\"\n      }\n    },\n    {\n      \"column\": \"Attendee Status\",\n      \"properties\": {\n        \"dtype\": \"category\",\n        \"num_unique_values\": 2,\n        \"samples\": [\n          \"NAN\"\n        ],\n        \"semantic_type\": \"\",\n        \"description\": \"\"\n      }\n    },\n    {\n      \"column\": \"College Name\",\n      \"properties\": {\n        \"dtype\": \"category\",\n        \"num_unique_values\": 55,\n        \"samples\": [\n          \"s.i.e.s. graduate school of technology, nerul, navi mumbai\"\n        ],\n        \"semantic_type\": \"\",\n        \"description\": \"\"\n      }\n    },\n    {\n      \"column\": \"How did you come to know about this event?\",\n      \"properties\": {\n        \"dtype\": \"category\",\n        \"num_unique_values\": 99,\n        \"samples\": [\n          \"Youtube | Instagram | Whatsapp | Telegram | Twitter\"\n        ],\n        \"semantic_type\": \"\",\n        \"description\": \"\"\n      }\n    },\n    {\n      \"column\": \"Specify in \\\"Others\\\" (how did you come to know about this event)\",\n      \"properties\": {\n        \"dtype\": \"category\",\n        \"num_unique_values\": 11,\n        \"samples\": [\n          \"Team entity\"\n        ],\n        \"semantic_type\": \"\",\n        \"description\": \"\"\n      }\n    },\n    {\n      \"column\": \"Designation\",\n      \"properties\": {\n        \"dtype\": \"category\",\n        \"num_unique_values\": 49,\n        \"samples\": [\n          \"Intern\"\n        ],\n        \"semantic_type\": \"\",\n        \"description\": \"\"\n      }\n    },\n    {\n      \"column\": \"Year of Graduation\",\n      \"properties\": {\n        \"dtype\": \"number\",\n        \"std\": 1,\n        \"min\": 2023,\n        \"max\": 2026,\n        \"num_unique_values\": 4,\n        \"samples\": [\n          2023\n        ],\n        \"semantic_type\": \"\",\n        \"description\": \"\"\n      }\n    },\n    {\n      \"column\": \"City\",\n      \"properties\": {\n        \"dtype\": \"category\",\n        \"num_unique_values\": 177,\n        \"samples\": [\n          \"Muzaffarpur\"\n        ],\n        \"semantic_type\": \"\",\n        \"description\": \"\"\n      }\n    },\n    {\n      \"column\": \"CGPA\",\n      \"properties\": {\n        \"dtype\": \"number\",\n        \"std\": 1.0051842959142352,\n        \"min\": 6.2,\n        \"max\": 9.9,\n        \"num_unique_values\": 37,\n        \"samples\": [\n          6.2\n        ],\n        \"semantic_type\": \"\",\n        \"description\": \"\"\n      }\n    },\n    {\n      \"column\": \"Experience with python (Months)\",\n      \"properties\": {\n        \"dtype\": \"number\",\n        \"std\": 1,\n        \"min\": 3,\n        \"max\": 8,\n        \"num_unique_values\": 6,\n        \"samples\": [\n          7\n        ],\n        \"semantic_type\": \"\",\n        \"description\": \"\"\n      }\n    },\n    {\n      \"column\": \"Family Income\",\n      \"properties\": {\n        \"dtype\": \"category\",\n        \"num_unique_values\": 4,\n        \"samples\": [\n          \"0-2 Lakh\"\n        ],\n        \"semantic_type\": \"\",\n        \"description\": \"\"\n      }\n    },\n    {\n      \"column\": \"Expected salary (Lac)\",\n      \"properties\": {\n        \"dtype\": \"number\",\n        \"std\": 6,\n        \"min\": 5,\n        \"max\": 35,\n        \"num_unique_values\": 30,\n        \"samples\": [\n          34\n        ],\n        \"semantic_type\": \"\",\n        \"description\": \"\"\n      }\n    },\n    {\n      \"column\": \"Leadership- skills\",\n      \"properties\": {\n        \"dtype\": \"category\",\n        \"num_unique_values\": 3,\n        \"samples\": [\n          \"yes\"\n        ],\n        \"semantic_type\": \"\",\n        \"description\": \"\"\n      }\n    }\n  ]\n}"
            }
          },
          "metadata": {},
          "execution_count": 130
        }
      ]
    },
    {
      "cell_type": "code",
      "source": [
        "df.info()"
      ],
      "metadata": {
        "colab": {
          "base_uri": "https://localhost:8080/"
        },
        "id": "APr22iUCYcKi",
        "outputId": "4381d46a-e3d0-4ab4-bc7d-dda46ec2e7f2"
      },
      "execution_count": 131,
      "outputs": [
        {
          "output_type": "stream",
          "name": "stdout",
          "text": [
            "<class 'pandas.core.frame.DataFrame'>\n",
            "RangeIndex: 4894 entries, 0 to 4893\n",
            "Data columns (total 16 columns):\n",
            " #   Column                                                           Non-Null Count  Dtype  \n",
            "---  ------                                                           --------------  -----  \n",
            " 0   First Name                                                       4894 non-null   object \n",
            " 1   Email ID                                                         4894 non-null   object \n",
            " 2   Quantity                                                         4894 non-null   int64  \n",
            " 3   Events                                                           4894 non-null   object \n",
            " 4   Attendee Status                                                  4894 non-null   object \n",
            " 5   College Name                                                     4879 non-null   object \n",
            " 6   How did you come to know about this event?                       2678 non-null   object \n",
            " 7   Specify in \"Others\" (how did you come to know about this event)  89 non-null     object \n",
            " 8   Designation                                                      4894 non-null   object \n",
            " 9   Year of Graduation                                               4894 non-null   int64  \n",
            " 10  City                                                             4894 non-null   object \n",
            " 11  CGPA                                                             4894 non-null   float64\n",
            " 12  Experience with python (Months)                                  4894 non-null   int64  \n",
            " 13  Family Income                                                    4894 non-null   object \n",
            " 14  Expected salary (Lac)                                            4894 non-null   int64  \n",
            " 15  Leadership- skills                                               4894 non-null   object \n",
            "dtypes: float64(1), int64(4), object(11)\n",
            "memory usage: 611.9+ KB\n"
          ]
        }
      ]
    },
    {
      "cell_type": "code",
      "source": [
        "df.isnull().sum()"
      ],
      "metadata": {
        "colab": {
          "base_uri": "https://localhost:8080/"
        },
        "id": "GTszTUo2ZRzp",
        "outputId": "82fbea15-4df8-4348-c983-9545b4506408"
      },
      "execution_count": 132,
      "outputs": [
        {
          "output_type": "execute_result",
          "data": {
            "text/plain": [
              "First Name                                                            0\n",
              "Email ID                                                              0\n",
              "Quantity                                                              0\n",
              "Events                                                                0\n",
              "Attendee Status                                                       0\n",
              "College Name                                                         15\n",
              "How did you come to know about this event?                         2216\n",
              "Specify in \"Others\" (how did you come to know about this event)    4805\n",
              "Designation                                                           0\n",
              "Year of Graduation                                                    0\n",
              "City                                                                  0\n",
              "CGPA                                                                  0\n",
              "Experience with python (Months)                                       0\n",
              "Family Income                                                         0\n",
              "Expected salary (Lac)                                                 0\n",
              "Leadership- skills                                                    0\n",
              "dtype: int64"
            ]
          },
          "metadata": {},
          "execution_count": 132
        }
      ]
    },
    {
      "cell_type": "markdown",
      "source": [
        "# ***BASIC QUESTIONS:***\n",
        "1.How many unique students are included in the dataset?\n",
        "\n",
        "2.What is the average GPA of the students?\n",
        "\n",
        "3.What is the distribution of students across different graduation years?\n",
        "\n",
        "4.What is the distribution of student's experience with Python programming?\n",
        "\n",
        "5.What is the average family income of the student?\n",
        "\n",
        "6.How does the GPA vary among different colleges? (Show top 5 results only)\n",
        "\n",
        "7.Are there any outliers in the 'attending status' & 'quantity (number of courses completed)' attribute?\n",
        "\n",
        "8.What is the average GPA for student from each city?\n",
        "\n",
        "9.Can we identify any relationship between family income and GPA?\n",
        "\n"
      ],
      "metadata": {
        "id": "dLWfZg9rbupE"
      }
    },
    {
      "cell_type": "code",
      "source": [
        "# Count the number of unique students\n",
        "\n",
        "us= df['Email ID'].nunique()\n",
        "\n",
        "# print(f\"There are {us} unique students in the dataset.\")\n",
        "\n",
        "print(\"There are unique students in the dataset.\" , us)\n",
        "\n",
        "# print(us)\n"
      ],
      "metadata": {
        "colab": {
          "base_uri": "https://localhost:8080/"
        },
        "id": "FRV8UWKIZR2g",
        "outputId": "8d9a1353-0d42-45cf-bbb2-0c0349ea02bd"
      },
      "execution_count": 149,
      "outputs": [
        {
          "output_type": "stream",
          "name": "stdout",
          "text": [
            "There are unique students in the dataset. 2157\n"
          ]
        }
      ]
    },
    {
      "cell_type": "code",
      "source": [
        "# Calculate the average GPA\n",
        "gpa = df['CGPA'].mean()\n",
        "\n",
        "print(\"The average GPA of the students is\", gpa)"
      ],
      "metadata": {
        "colab": {
          "base_uri": "https://localhost:8080/"
        },
        "id": "5s31Ti7YZR5I",
        "outputId": "b813c72f-4976-493c-c30b-4ef77522d7bb"
      },
      "execution_count": 150,
      "outputs": [
        {
          "output_type": "stream",
          "name": "stdout",
          "text": [
            "The average GPA of the students is 8.038475684511647\n"
          ]
        }
      ]
    },
    {
      "cell_type": "code",
      "source": [
        "yog =df['Year of Graduation'].value_counts()\n",
        "print(yog)"
      ],
      "metadata": {
        "colab": {
          "base_uri": "https://localhost:8080/"
        },
        "id": "SJTJn-nTZR7f",
        "outputId": "87a4c610-02e7-4446-8759-50aee525ca8b"
      },
      "execution_count": 151,
      "outputs": [
        {
          "output_type": "stream",
          "name": "stdout",
          "text": [
            "Year of Graduation\n",
            "2023    1536\n",
            "2024    1511\n",
            "2025    1292\n",
            "2026     555\n",
            "Name: count, dtype: int64\n"
          ]
        }
      ]
    },
    {
      "cell_type": "code",
      "source": [
        "python = df['Experience with python (Months)'].value_counts()\n",
        "print(python)"
      ],
      "metadata": {
        "colab": {
          "base_uri": "https://localhost:8080/"
        },
        "id": "Xxy3rVagZR9p",
        "outputId": "d75b9fd6-1e14-4d3b-ca20-3c0bf7b2dd8e"
      },
      "execution_count": 152,
      "outputs": [
        {
          "output_type": "stream",
          "name": "stdout",
          "text": [
            "Experience with python (Months)\n",
            "5    1242\n",
            "3    1008\n",
            "8     800\n",
            "6     738\n",
            "7     640\n",
            "4     466\n",
            "Name: count, dtype: int64\n"
          ]
        }
      ]
    },
    {
      "cell_type": "code",
      "source": [
        "income_mapping = {\n",
        "    '0-2 Lakh': 1,\n",
        "    '2-5 Lakh': 3.5,\n",
        "    '5-7 Lakh': 6,\n",
        "    '7 Lakh+': 7  # Assuming 7 Lakh+ as 7 for simplicity\n",
        "}\n",
        "\n",
        "df['Family Income Midpoint'] = df['Family Income'].map(income_mapping)\n",
        "average_family_income = df['Family Income Midpoint'].mean()\n",
        "print(\"The average family income of the students is\", average_family_income, \"Lakh.\")\n"
      ],
      "metadata": {
        "colab": {
          "base_uri": "https://localhost:8080/"
        },
        "id": "oMlze9j6tJxZ",
        "outputId": "02602806-2b6f-4635-af41-5784923e5da4"
      },
      "execution_count": 153,
      "outputs": [
        {
          "output_type": "stream",
          "name": "stdout",
          "text": [
            "The average family income of the students is 1.2930118512464241 Lakh.\n"
          ]
        }
      ]
    },
    {
      "cell_type": "code",
      "source": [
        "college_gpa_avg = df.groupby('College Name')['CGPA'].mean()\n",
        "\n",
        "# Sort the colleges based on average GPA in descending order\n",
        "college_gpa_avg_sorted = college_gpa_avg.sort_values(ascending=False)\n",
        "\n",
        "# Show the top 5 colleges with the highest average GPA\n",
        "top_5_colleges = college_gpa_avg_sorted.head(5)\n",
        "\n",
        "print(\"Top 5 Colleges with Highest Average GPA:\")\n",
        "print(top_5_colleges)"
      ],
      "metadata": {
        "colab": {
          "base_uri": "https://localhost:8080/"
        },
        "id": "D5fP5yIPZSBg",
        "outputId": "ded2690c-df87-4d90-ebbc-00fb39c3f4d9"
      },
      "execution_count": 154,
      "outputs": [
        {
          "output_type": "stream",
          "name": "stdout",
          "text": [
            "Top 5 Colleges with Highest Average GPA:\n",
            "College Name\n",
            "THAKUR INSTITUTE OF MANAGEMENT STUDIES, CAREER DEVELOPMENT & RESEARCH - [TIMSCDR]    8.585714\n",
            "St Xavier's College                                                                  8.578571\n",
            "B. K. Birla College of Arts, Science & Commerce (Autonomous), Kalyan                 8.456410\n",
            "Symbiosis Institute of Technology, Pune                                              8.303448\n",
            "AP SHAH INSTITUTE OF TECHNOLOGY                                                      8.283333\n",
            "Name: CGPA, dtype: float64\n"
          ]
        }
      ]
    },
    {
      "cell_type": "code",
      "source": [
        "# Check for outliers in 'Attending Status'\n",
        "outliers_attending_status = df['Attendee Status'].value_counts()\n",
        "\n",
        "# Check for outliers in 'Quantity (Number of Courses Completed)'\n",
        "outliers_courses_completed = df['Quantity'].value_counts()\n",
        "\n",
        "# Print the results\n",
        "print(\"Outliers in Attending Status:\")\n",
        "print(outliers_attending_status)\n",
        "print(\"\\nOutliers in Quantity (Number of Courses Completed):\")\n",
        "print(outliers_courses_completed)\n"
      ],
      "metadata": {
        "colab": {
          "base_uri": "https://localhost:8080/"
        },
        "id": "JGLanN1AvKZG",
        "outputId": "e4d52bd7-523f-49ab-8ba4-ca120f2e1ec3"
      },
      "execution_count": 155,
      "outputs": [
        {
          "output_type": "stream",
          "name": "stdout",
          "text": [
            "Outliers in Attending Status:\n",
            "Attendee Status\n",
            "Attending    4882\n",
            "NAN            12\n",
            "Name: count, dtype: int64\n",
            "\n",
            "Outliers in Quantity (Number of Courses Completed):\n",
            "Quantity\n",
            "1    4894\n",
            "Name: count, dtype: int64\n"
          ]
        }
      ]
    },
    {
      "cell_type": "code",
      "source": [
        "# Assuming 'CGPA' is the GPA column\n",
        "average_gpa_by_city = df.groupby('City')['CGPA'].mean()\n",
        "print(\"Average GPA for Students from Each City:\")\n",
        "print(average_gpa_by_city)\n"
      ],
      "metadata": {
        "colab": {
          "base_uri": "https://localhost:8080/"
        },
        "id": "DiAk9eCJvKbh",
        "outputId": "006aa652-5a83-4d06-dbef-af9347eb6d53"
      },
      "execution_count": 156,
      "outputs": [
        {
          "output_type": "stream",
          "name": "stdout",
          "text": [
            "Average GPA for Students from Each City:\n",
            "City\n",
            "Agartala     7.660714\n",
            "Agra         8.046429\n",
            "Ahemdabad    8.190385\n",
            "Ajmer        8.284314\n",
            "Akola        8.021429\n",
            "               ...   \n",
            "Vidisha      7.738095\n",
            "Vijaywada    7.986364\n",
            "Wardha       8.328571\n",
            "konark       8.071429\n",
            "kullu        7.878571\n",
            "Name: CGPA, Length: 177, dtype: float64\n"
          ]
        }
      ]
    },
    {
      "cell_type": "markdown",
      "source": [
        "# ***MODERATE QUESTIONS:***\n",
        "\n",
        "10.How does the expected salary vary based on factors like 'GPA', 'Family income', 'Experience with python (Months)'?\n",
        "\n",
        "11.Which event tend to attract more students from specific fields of study?\n",
        "\n",
        "12.Do students in leadership positions during their college years tend to have higher GPAs or better expected salary?\n",
        "\n",
        "13.How many students are graduating by the end of 2024?\n",
        "\n",
        "14.Which promotion channel brings in more student participations for the event?\n",
        "\n",
        "15.Find the total number of students who attended the events related to Data Science? (From all Data Science related courses.)\n",
        "\n",
        "16.Those who have high CGPA & More experience in language those who had high expectations for salary? (Avg)\n",
        "\n",
        "17.How many students know about the event from their colleges? Which of these Top 5 colleges?"
      ],
      "metadata": {
        "id": "ssK2snowzV6v"
      }
    },
    {
      "cell_type": "code",
      "source": [
        "# Family income is in string and string cannot be converted into int so I'm using \"Expected salary (Lac)\" as a Family Income\n",
        "\n",
        "# Scatter plot\n",
        "plt.scatter(df['Family Income'], df['CGPA'])\n",
        "plt.xlabel('Expected salary (Lac)')\n",
        "plt.ylabel('CGPA')\n",
        "plt.title('Relationship Between Family Income(Expected salary (Lac)) and CGPA')\n",
        "plt.show()\n",
        "\n",
        "# Correlation coefficient\n",
        "correlation_coefficient = df['Expected salary (Lac)'].corr(df['CGPA'])\n",
        "print(\"Correlation Coefficient between Expected salary (Lac) and CGPA:\", correlation_coefficient)\n",
        "\n",
        "\n"
      ],
      "metadata": {
        "colab": {
          "base_uri": "https://localhost:8080/",
          "height": 489
        },
        "id": "J33kGR1kvKgS",
        "outputId": "b23195be-2596-47dd-ab33-258e348ca0c4"
      },
      "execution_count": 157,
      "outputs": [
        {
          "output_type": "display_data",
          "data": {
            "text/plain": [
              "<Figure size 640x480 with 1 Axes>"
            ],
            "image/png": "[encoded data removed]"
          },
          "metadata": {}
        },
        {
          "output_type": "stream",
          "name": "stdout",
          "text": [
            "Correlation Coefficient between Expected salary (Lac) and CGPA: 0.18119627142773678\n"
          ]
        }
      ]
    },
    {
      "cell_type": "markdown",
      "source": [
        "# **10. Expected Salary Variation based on GPA, Family Income, and Experience with Python:**\n",
        "\n",
        "This requires regression analysis, assuming 'Expected salary (Lac)' is the target variable."
      ],
      "metadata": {
        "id": "7jT47LOQ202M"
      }
    },
    {
      "cell_type": "code",
      "source": [
        "event_attendance_by_field = df.groupby(['Events', 'Designation']).size()\n",
        "print(\"Event Attendance by Field of Study:\")\n",
        "print(event_attendance_by_field)\n"
      ],
      "metadata": {
        "id": "-n6xyWl4ycPL",
        "colab": {
          "base_uri": "https://localhost:8080/"
        },
        "outputId": "ae3cdb97-f472-467c-a7d7-fd7c3f785c26"
      },
      "execution_count": 158,
      "outputs": [
        {
          "output_type": "stream",
          "name": "stdout",
          "text": [
            "Event Attendance by Field of Study:\n",
            "Events                                       Designation    \n",
            "Art of Resume Building                       Students           478\n",
            "Artificial Intelligence                      Students           125\n",
            "Data Visualization using Power BI            Students           455\n",
            "Hello ML and DL                              Students           262\n",
            "IAC - Q&A                                    Asst. Professor     23\n",
            "                                                               ... \n",
            "Skill and Employability Enhancement          Students           318\n",
            "Talk on Skill and Employability Enhancement  Students           379\n",
            "The Agile Ways of Working                    Students           121\n",
            "The SDLC & their transformations             Students           142\n",
            "Transformation with DevOps: The Easy Way     Students            92\n",
            "Length: 84, dtype: int64\n"
          ]
        }
      ]
    },
    {
      "cell_type": "code",
      "source": [
        "average_gpa_with_leadership = df[df['Leadership- skills'] == 'yes']['CGPA'].mean()\n",
        "average_gpa_without_leadership = df[df['Leadership- skills'] == 'no']['CGPA'].mean()\n",
        "print(\"Average GPA with Leadership Positions:\", average_gpa_with_leadership)\n",
        "print(\"Average GPA without Leadership Positions:\", average_gpa_without_leadership)\n"
      ],
      "metadata": {
        "id": "UkYCcD_tycRc",
        "colab": {
          "base_uri": "https://localhost:8080/"
        },
        "outputId": "bd52b7d6-98a8-4990-d0d1-095257c1d8cb"
      },
      "execution_count": 159,
      "outputs": [
        {
          "output_type": "stream",
          "name": "stdout",
          "text": [
            "Average GPA with Leadership Positions: 8.036787247087677\n",
            "Average GPA without Leadership Positions: 8.040444274224436\n"
          ]
        }
      ]
    },
    {
      "cell_type": "code",
      "source": [
        "# correlation_leadership_salary = df['Leadership- skills'].corr(df['Expected salary (Lac)'])\n",
        "# print(\"Correlation between Leadership Skills and Expected Salary:\", correlation_leadership_salary)\n"
      ],
      "metadata": {
        "id": "a5XXmpGzycT9"
      },
      "execution_count": 144,
      "outputs": []
    },
    {
      "cell_type": "code",
      "source": [
        "students_graduating_2024 = df[df['Year of Graduation'] == 2024].shape[0]\n",
        "print(\"Number of Students Graduating by the End of 2024:\", students_graduating_2024)\n"
      ],
      "metadata": {
        "id": "rGDDvzi9ycWf",
        "colab": {
          "base_uri": "https://localhost:8080/"
        },
        "outputId": "a715bacc-6782-4c32-e290-05dacec9211b"
      },
      "execution_count": 160,
      "outputs": [
        {
          "output_type": "stream",
          "name": "stdout",
          "text": [
            "Number of Students Graduating by the End of 2024: 1511\n"
          ]
        }
      ]
    },
    {
      "cell_type": "code",
      "source": [
        "promotion_channel_participations = df['How did you come to know about this event?'].value_counts()\n",
        "print(\"Promotion Channel Analysis:\")\n",
        "print(promotion_channel_participations)\n"
      ],
      "metadata": {
        "id": "0UOO-r0wycZ6",
        "colab": {
          "base_uri": "https://localhost:8080/"
        },
        "outputId": "8dd3dc83-4579-4c35-ea0f-af612cd4db9e"
      },
      "execution_count": 161,
      "outputs": [
        {
          "output_type": "stream",
          "name": "stdout",
          "text": [
            "Promotion Channel Analysis:\n",
            "How did you come to know about this event?\n",
            "Whatsapp                                                                                       1067\n",
            "Email                                                                                           438\n",
            "SPOC/ College Professor                                                                         326\n",
            "Others                                                                                          153\n",
            "Cloud Counselage Website                                                                        129\n",
            "                                                                                               ... \n",
            "Youtube | Instagram | Whatsapp | Email                                                            1\n",
            "LinkedIn | Email | Telegram                                                                       1\n",
            "Youtube | Email | Others                                                                          1\n",
            "Youtube | Facebook | Instagram | LinkedIn | Whatsapp | Email | Telegram | Friend/ Classmate       1\n",
            "Youtube | Whatsapp | Cloud Counselage Website                                                     1\n",
            "Name: count, Length: 99, dtype: int64\n"
          ]
        }
      ]
    },
    {
      "cell_type": "code",
      "source": [
        "total_data_science_attendees = df[df['Events'].str.contains('Data Science', case=False)].shape[0]\n",
        "print(\"Total Number of Students Attending Data Science Events:\", total_data_science_attendees)\n"
      ],
      "metadata": {
        "id": "GbYzqz5-vKjz",
        "colab": {
          "base_uri": "https://localhost:8080/"
        },
        "outputId": "14d97125-a578-400a-b30b-81b16acf49aa"
      },
      "execution_count": 162,
      "outputs": [
        {
          "output_type": "stream",
          "name": "stdout",
          "text": [
            "Total Number of Students Attending Data Science Events: 306\n"
          ]
        }
      ]
    },
    {
      "cell_type": "markdown",
      "source": [
        "# **16. Relationship between High CGPA, Language Experience, and Salary Expectations:**\n",
        "\n",
        "This requires regression analysis."
      ],
      "metadata": {
        "id": "pypsRqUn3T-H"
      }
    },
    {
      "cell_type": "code",
      "source": [
        "college_knowledge_source = df[df['How did you come to know about this event?'] == 'College'].shape[0]\n",
        "print(\"Number of Students Knowing about the Event from Their Colleges:\", college_knowledge_source)\n"
      ],
      "metadata": {
        "colab": {
          "base_uri": "https://localhost:8080/"
        },
        "id": "GgdsGv8F3Zod",
        "outputId": "c5c4e303-4062-4838-d94f-f65ed514b925"
      },
      "execution_count": 163,
      "outputs": [
        {
          "output_type": "stream",
          "name": "stdout",
          "text": [
            "Number of Students Knowing about the Event from Their Colleges: 0\n"
          ]
        }
      ]
    }
  ]
}